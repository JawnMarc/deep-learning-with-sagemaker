{
 "cells": [
  {
   "cell_type": "markdown",
   "metadata": {
    "tags": []
   },
   "source": [
    "# AWS Sagemaker Dog Breed Classification\n",
    "\n",
    "This notebook lists all the steps that you need to complete the complete this project. You will need to complete all the TODOs in this notebook as well as in the README and the two python scripts included with the starter code.\n",
    "\n",
    "\n",
    "**TODO**: Give a helpful introduction to what this notebook is for. Remember that comments, explanations and good documentation make your project informative and professional.\n",
    "\n",
    "**Note:** This notebook has a bunch of code and markdown cells with TODOs that you have to complete. These are meant to be helpful guidelines for you to finish your project while meeting the requirements in the project rubrics. Feel free to change the order of these the TODO's and use more than one TODO code cell to do all your tasks."
   ]
  },
  {
   "cell_type": "code",
   "execution_count": 33,
   "metadata": {
    "scrolled": true,
    "tags": []
   },
   "outputs": [
    {
     "name": "stdout",
     "output_type": "stream",
     "text": [
      "Requirement already satisfied: smdebug in /opt/conda/lib/python3.8/site-packages/smdebug-1.0.24b20230214-py3.8.egg (1.0.24b20230214)\n",
      "Requirement already satisfied: protobuf<=3.20.2 in /opt/conda/lib/python3.8/site-packages (from smdebug) (3.20.2)\n",
      "Requirement already satisfied: numpy>=1.16.0 in /opt/conda/lib/python3.8/site-packages (from smdebug) (1.23.5)\n",
      "Requirement already satisfied: packaging in /opt/conda/lib/python3.8/site-packages (from smdebug) (23.0)\n",
      "Requirement already satisfied: boto3>=1.10.32 in /opt/conda/lib/python3.8/site-packages (from smdebug) (1.26.70)\n",
      "Requirement already satisfied: pyinstrument==3.4.2 in /opt/conda/lib/python3.8/site-packages/pyinstrument-3.4.2-py3.8.egg (from smdebug) (3.4.2)\n",
      "Requirement already satisfied: pyinstrument-cext>=0.2.2 in /opt/conda/lib/python3.8/site-packages/pyinstrument_cext-0.2.4-py3.8-linux-x86_64.egg (from pyinstrument==3.4.2->smdebug) (0.2.4)\n",
      "Requirement already satisfied: jmespath<2.0.0,>=0.7.1 in /opt/conda/lib/python3.8/site-packages (from boto3>=1.10.32->smdebug) (1.0.1)\n",
      "Requirement already satisfied: botocore<1.30.0,>=1.29.70 in /opt/conda/lib/python3.8/site-packages (from boto3>=1.10.32->smdebug) (1.29.70)\n",
      "Requirement already satisfied: s3transfer<0.7.0,>=0.6.0 in /opt/conda/lib/python3.8/site-packages (from boto3>=1.10.32->smdebug) (0.6.0)\n",
      "Requirement already satisfied: python-dateutil<3.0.0,>=2.1 in /opt/conda/lib/python3.8/site-packages (from botocore<1.30.0,>=1.29.70->boto3>=1.10.32->smdebug) (2.8.2)\n",
      "Requirement already satisfied: urllib3<1.27,>=1.25.4 in /opt/conda/lib/python3.8/site-packages (from botocore<1.30.0,>=1.29.70->boto3>=1.10.32->smdebug) (1.26.14)\n",
      "Requirement already satisfied: six>=1.5 in /opt/conda/lib/python3.8/site-packages (from python-dateutil<3.0.0,>=2.1->botocore<1.30.0,>=1.29.70->boto3>=1.10.32->smdebug) (1.16.0)\n",
      "\u001b[33mWARNING: Running pip as the 'root' user can result in broken permissions and conflicting behaviour with the system package manager. It is recommended to use a virtual environment instead: https://pip.pypa.io/warnings/venv\u001b[0m\u001b[33m\n",
      "\u001b[0m\n",
      "\u001b[1m[\u001b[0m\u001b[34;49mnotice\u001b[0m\u001b[1;39;49m]\u001b[0m\u001b[39;49m A new release of pip is available: \u001b[0m\u001b[31;49m23.0\u001b[0m\u001b[39;49m -> \u001b[0m\u001b[32;49m23.0.1\u001b[0m\n",
      "\u001b[1m[\u001b[0m\u001b[34;49mnotice\u001b[0m\u001b[1;39;49m]\u001b[0m\u001b[39;49m To update, run: \u001b[0m\u001b[32;49mpip install --upgrade pip\u001b[0m\n"
     ]
    }
   ],
   "source": [
    "# TODO: Install any packages that you might need\n",
    "# For instance, you will need the smdebug package\n",
    "!pip install smdebug"
   ]
  },
  {
   "cell_type": "code",
   "execution_count": 65,
   "metadata": {
    "tags": []
   },
   "outputs": [],
   "source": [
    "# TODO: Import any packages that you might need\n",
    "# For instance you will need Boto3 and Sagemaker\n",
    "\n",
    "import IPython\n",
    "import os\n",
    "from PIL import ImageFile, Image\n",
    "ImageFile.LOAD_TRUNCATED_IMAGES = True\n",
    "\n",
    "import matplotlib.pyplot as plt\n",
    "from mpl_toolkits.axes_grid1 import host_subplot\n",
    "\n",
    "import sagemaker\n",
    "import boto3\n",
    "\n",
    "import torch\n",
    "import torchvision\n",
    "from torchvision import transforms, datasets\n",
    "import numpy as np\n",
    "\n",
    "\n",
    "from sagemaker.session import Session\n",
    "from sagemaker import get_execution_role\n",
    "from sagemaker.pytorch import PyTorch\n",
    "\n",
    "\n",
    "# import modules for debugging, profiling\n",
    "from sagemaker.debugger import Rule, ProfilerRule, DebuggerHookConfig, ProfilerConfig, FrameworkProfile, rule_configs\n",
    "\n",
    "# import modules for hyperparameter tuning\n",
    "from sagemaker.tuner import (IntegerParameter, CategoricalParameter, ContinuousParameter, HyperparameterTuner)\n"
   ]
  },
  {
   "cell_type": "markdown",
   "metadata": {},
   "source": [
    "## Dataset\n",
    "TODO: Explain what dataset you are using for this project. Maybe even give a small overview of the classes, class distributions etc that can help anyone not familiar with the dataset get a better understand of it."
   ]
  },
  {
   "cell_type": "code",
   "execution_count": 35,
   "metadata": {
    "tags": []
   },
   "outputs": [],
   "source": [
    "#TODO: Fetch and upload the data to AWS S3\n",
    "# Command to download and unzip data\n",
    "# !wget https://s3-us-west-1.amazonaws.com/udacity-aind/dog-project/dogImages.zip\n",
    "# !unzip dogImages.zip\n",
    "\n",
    "# sync data to s3\n",
    "# !aws s3 sync dogImages/ s3://dog-breed-image-classifier/"
   ]
  },
  {
   "cell_type": "code",
   "execution_count": 36,
   "metadata": {
    "tags": []
   },
   "outputs": [
    {
     "name": "stdout",
     "output_type": "stream",
     "text": [
      "Sagemaker execution role:  arn:aws:iam::624558554882:role/service-role/AmazonSageMaker-ExecutionRole-20221219T103433\n",
      "Training Input data is located at: s3://dog-breed-image-classifier\n"
     ]
    }
   ],
   "source": [
    "# bucket name to keep projec data\n",
    "role = get_execution_role()\n",
    "bucket = 'dog-breed-image-classifier'\n",
    "input_data = f's3://{bucket}'\n",
    "\n",
    "print('Sagemaker execution role: ', role)\n",
    "print(f'Training Input data is located at: {input_data}')"
   ]
  },
  {
   "cell_type": "markdown",
   "metadata": {},
   "source": [
    "## Hyperparameter Tuning\n",
    "**TODO:** This is the part where you will finetune a pretrained model with hyperparameter tuning. Remember that you have to tune a minimum of two hyperparameters. However you are encouraged to tune more. You are also encouraged to explain why you chose to tune those particular hyperparameters and the ranges.\n",
    "\n",
    "**Note:** You will need to use the `hpo.py` script to perform hyperparameter tuning."
   ]
  },
  {
   "cell_type": "code",
   "execution_count": 6,
   "metadata": {
    "tags": []
   },
   "outputs": [],
   "source": [
    "#TODO: Declare your HP ranges, metrics etc.\n",
    "hyperparamater_ranges = {\n",
    "    # 'arch': CategoricalParameter(['densenet121', 'resnet18']),\n",
    "    'epochs': IntegerParameter(5, 10),\n",
    "    'lr': ContinuousParameter(1e-5, 0.1),\n",
    "    'dropout_rate': CategoricalParameter([0.2, 0.4]),\n",
    "    'hidden_units': CategoricalParameter([256, 384, 512, 640]),    \n",
    "    'batch_size': CategoricalParameter([16, 32, 64]),\n",
    "    'test_batch_size': CategoricalParameter([16, 32, 64]),\n",
    "}"
   ]
  },
  {
   "cell_type": "code",
   "execution_count": 7,
   "metadata": {
    "tags": []
   },
   "outputs": [],
   "source": [
    "#TODO: Create estimators for your HPs\n",
    "estimator = PyTorch(\n",
    "    entry_point='hpo.py',\n",
    "    role = role,\n",
    "    base_job_name = 'dog-bre-ic-exp-1',\n",
    "    instance_type = 'ml.g4dn.xlarge',  #-->'ml.m5.xlarge', g4dn\n",
    "    instance_count =1,\n",
    "    framework_version = '1.12',\n",
    "    py_version = 'py38',\n",
    ")\n",
    "\n",
    "\n",
    "objective_metric_name = 'validation accuracy'\n",
    "objective_type = 'Maximize'\n",
    "metric_definitions =  [{\n",
    "    \"Name\": \"validation accuracy\",\n",
    "    \"Regex\": \"valid accuracy: ([0-9\\\\.]+)\"}]   # fetch name from valid log/print in train func\n",
    "\n",
    "\n",
    "tuner = HyperparameterTuner(\n",
    "    estimator = estimator,\n",
    "    base_tuning_job_name = 'dog-bre-tuning-exp-1',\n",
    "    objective_metric_name = objective_metric_name,\n",
    "    hyperparameter_ranges = hyperparamater_ranges,\n",
    "    metric_definitions = metric_definitions,\n",
    "    max_jobs = 4,\n",
    "    max_parallel_jobs = 2,\n",
    "    objective_type = objective_type,\n",
    "    # early_stopping_type= 'Auto'\n",
    ")"
   ]
  },
  {
   "cell_type": "code",
   "execution_count": null,
   "metadata": {
    "tags": []
   },
   "outputs": [
    {
     "name": "stderr",
     "output_type": "stream",
     "text": [
      "No finished training job found associated with this estimator. Please make sure this estimator is only used for building workflow config\n"
     ]
    },
    {
     "name": "stdout",
     "output_type": "stream",
     "text": [
      "..........................................................................................................................................................................................................................................................................................................................................."
     ]
    }
   ],
   "source": [
    "# TODO: Fit your HP Tuner\n",
    "tuner.fit({'training': input_data}, wait=True)"
   ]
  },
  {
   "cell_type": "code",
   "execution_count": 12,
   "metadata": {
    "tags": []
   },
   "outputs": [
    {
     "name": "stdout",
     "output_type": "stream",
     "text": [
      "\n",
      "2023-03-05 16:01:43 Starting - Preparing the instances for training\n",
      "2023-03-05 16:01:43 Downloading - Downloading input data\n",
      "2023-03-05 16:01:43 Training - Training image download completed. Training in progress.\n",
      "2023-03-05 16:01:43 Uploading - Uploading generated training model\n",
      "2023-03-05 16:01:43 Completed - Resource reused by training job: dog-bre-tuning-exp-1-230305-1540-004-4ef93769\n"
     ]
    }
   ],
   "source": [
    "# TODO: Get the best estimators and the best HPs\n",
    "best_estimator = tuner.best_estimator()"
   ]
  },
  {
   "cell_type": "code",
   "execution_count": 13,
   "metadata": {
    "tags": []
   },
   "outputs": [
    {
     "data": {
      "text/plain": [
       "{'_tuning_objective_metric': '\"validation accuracy\"',\n",
       " 'batch_size': '\"64\"',\n",
       " 'dropout_rate': '\"0.4\"',\n",
       " 'epochs': '10',\n",
       " 'hidden_units': '\"512\"',\n",
       " 'lr': '0.00041344049002957486',\n",
       " 'sagemaker_container_log_level': '20',\n",
       " 'sagemaker_estimator_class_name': '\"PyTorch\"',\n",
       " 'sagemaker_estimator_module': '\"sagemaker.pytorch.estimator\"',\n",
       " 'sagemaker_job_name': '\"dog-bre-ic-exp-1-2023-03-05-15-40-51-970\"',\n",
       " 'sagemaker_program': '\"hpo.py\"',\n",
       " 'sagemaker_region': '\"us-east-1\"',\n",
       " 'sagemaker_submit_directory': '\"s3://sagemaker-us-east-1-037495207244/dog-bre-ic-exp-1-2023-03-05-15-40-51-970/source/sourcedir.tar.gz\"',\n",
       " 'test_batch_size': '\"64\"'}"
      ]
     },
     "execution_count": 13,
     "metadata": {},
     "output_type": "execute_result"
    }
   ],
   "source": [
    "#Get the hyperparameters of the best trained model\n",
    "best_estimator.hyperparameters()"
   ]
  },
  {
   "cell_type": "markdown",
   "metadata": {},
   "source": [
    "## Model Profiling and Debugging\n",
    "TODO: Using the best hyperparameters, create and finetune a new model\n",
    "\n",
    "**Note:** You will need to use the `train_model.py` script to perform model profiling and debugging."
   ]
  },
  {
   "cell_type": "code",
   "execution_count": 14,
   "metadata": {
    "tags": []
   },
   "outputs": [
    {
     "data": {
      "text/plain": [
       "{'batch_size': '\"64\"',\n",
       " 'dropout_rate': '\"0.4\"',\n",
       " 'epochs': '10',\n",
       " 'hidden_units': '\"512\"',\n",
       " 'lr': '0.00041344049002957486',\n",
       " 'test_batch_size': '\"64\"'}"
      ]
     },
     "execution_count": 14,
     "metadata": {},
     "output_type": "execute_result"
    }
   ],
   "source": [
    "best_hyperparameters = dict()\n",
    "\n",
    "for key, val in best_estimator.hyperparameters().items():\n",
    "    if key in ['arch', 'batch_size', 'test_batch_size', 'dropout_rate', 'epochs', 'hidden_units', 'lr']:\n",
    "        best_hyperparameters[key] = val \n",
    "        \n",
    "best_hyperparameters"
   ]
  },
  {
   "cell_type": "markdown",
   "metadata": {
    "tags": []
   },
   "source": [
    "```python\n",
    "##  exp 1\n",
    "{'arch': '\"resnet18\"',\n",
    " 'batch_size': '\"64\"',\n",
    " 'dropout_rate': '\"0.65\"',\n",
    " 'epochs': '12',\n",
    " 'hidden_units': '\"640\"',\n",
    " 'lr': '0.023931905932654127',\n",
    " 'test_batch_size': '\"16\"'}\n",
    "\n",
    "# exp 2\n",
    "{'arch': '\"resnet18\"',\n",
    " 'batch_size': '\"128\"',\n",
    " 'dropout_rate': '\"0.65\"',\n",
    " 'epochs': '19',\n",
    " 'hidden_units': '\"256\"',\n",
    " 'lr': '0.001720067698389021',\n",
    " 'test_batch_size': '\"64\"'}\n",
    "\n",
    "# exp 3\n",
    "{'batch_size': '\"128\"',\n",
    " 'dropout_rate': '\"0.2\"',\n",
    " 'epochs': '9',\n",
    " 'hidden_units': '\"640\"',\n",
    " 'lr': '0.0021406024008438643',\n",
    " 'test_batch_size': '\"16\"'}\n",
    " \n",
    " # exp 4\n",
    " {'batch_size': '\"64\"',\n",
    " 'dropout_rate': '\"0.4\"',\n",
    " 'epochs': '10',\n",
    " 'hidden_units': '\"512\"',\n",
    " 'lr': '0.00041344049002957486',\n",
    " 'test_batch_size': '\"64\"'}\n",
    " ```\n"
   ]
  },
  {
   "cell_type": "code",
   "execution_count": 53,
   "metadata": {
    "tags": []
   },
   "outputs": [],
   "source": [
    "# TODO: Set up debugging and profiling rules and hooks\n",
    "rules = [\n",
    "    Rule.sagemaker(rule_configs.overfit()),\n",
    "    Rule.sagemaker(rule_configs.loss_not_decreasing()),\n",
    "    Rule.sagemaker(rule_configs.vanishing_gradient()),\n",
    "    Rule.sagemaker(rule_configs.poor_weight_initialization()),\n",
    "    Rule.sagemaker(rule_configs.overtraining()),\n",
    "    ProfilerRule.sagemaker(rule_configs.LowGPUUtilization()),\n",
    "    ProfilerRule.sagemaker(rule_configs.ProfilerReport()),\n",
    "    ProfilerRule.sagemaker(rule_configs.CPUBottleneck()),\n",
    "\n",
    "]\n",
    "\n",
    "hook_config = DebuggerHookConfig(\n",
    "    hook_parameters={\n",
    "        'train.save_interval':'10',\n",
    "        'eval.save_interval': '1'\n",
    "    }\n",
    ")\n",
    "\n",
    "profiler_config = ProfilerConfig(\n",
    "    system_monitor_interval_millis = 500,\n",
    "    framework_profile_params = FrameworkProfile(num_steps=10)\n",
    ")\n",
    "\n",
    "\n",
    "hyper_dict = {\n",
    "    'batch_size': '\"64\"',\n",
    "    'dropout_rate': '\"0.4\"',\n",
    "    'epochs': '1',\n",
    "    'hidden_units': '\"512\"',\n",
    "    'lr': '0.00041344049002957486',\n",
    "    'test_batch_size': '\"64\"'\n",
    "}"
   ]
  },
  {
   "cell_type": "code",
   "execution_count": 54,
   "metadata": {
    "tags": []
   },
   "outputs": [],
   "source": [
    "# configuring estimator using best HPO\n",
    "best_estimator = PyTorch(\n",
    "    entry_point='train_model.py',\n",
    "    role = role,\n",
    "    instance_type = 'ml.m5.2xlarge', # g4dn\n",
    "    instance_count =1,\n",
    "    framework_version = '1.12',\n",
    "    py_version = 'py38',\n",
    "    # hyperparameters = best_hyperparameters,\n",
    "    hyperparameters = hyper_dict,    \n",
    "    # create hook config and profiler\n",
    "    rules = rules,\n",
    "    debugger_hook_config = hook_config,\n",
    "    profiler_config = profiler_config    \n",
    ")"
   ]
  },
  {
   "cell_type": "code",
   "execution_count": 55,
   "metadata": {
    "tags": []
   },
   "outputs": [
    {
     "name": "stderr",
     "output_type": "stream",
     "text": [
      "INFO:sagemaker.image_uris:image_uri is not presented, retrieving image_uri based on instance_type, framework etc.\n",
      "INFO:sagemaker.image_uris:Defaulting to the only supported framework/algorithm version: latest.\n",
      "INFO:sagemaker.image_uris:Ignoring unnecessary instance type: None.\n",
      "INFO:sagemaker.image_uris:Defaulting to the only supported framework/algorithm version: latest.\n",
      "INFO:sagemaker.image_uris:Ignoring unnecessary instance type: None.\n",
      "INFO:sagemaker.image_uris:Defaulting to the only supported framework/algorithm version: latest.\n",
      "INFO:sagemaker.image_uris:Ignoring unnecessary instance type: None.\n",
      "INFO:sagemaker.image_uris:Defaulting to the only supported framework/algorithm version: latest.\n",
      "INFO:sagemaker.image_uris:Ignoring unnecessary instance type: None.\n",
      "INFO:sagemaker.image_uris:Defaulting to the only supported framework/algorithm version: latest.\n",
      "INFO:sagemaker.image_uris:Ignoring unnecessary instance type: None.\n",
      "INFO:sagemaker.image_uris:Defaulting to the only supported framework/algorithm version: latest.\n",
      "INFO:sagemaker.image_uris:Ignoring unnecessary instance type: None.\n",
      "INFO:sagemaker.image_uris:Defaulting to the only supported framework/algorithm version: latest.\n",
      "INFO:sagemaker.image_uris:Ignoring unnecessary instance type: None.\n",
      "INFO:sagemaker.image_uris:Defaulting to the only supported framework/algorithm version: latest.\n",
      "INFO:sagemaker.image_uris:Ignoring unnecessary instance type: None.\n",
      "INFO:sagemaker.image_uris:image_uri is not presented, retrieving image_uri based on instance_type, framework etc.\n",
      "INFO:sagemaker:Creating training-job with name: pytorch-training-2023-03-16-13-08-59-133\n"
     ]
    },
    {
     "name": "stdout",
     "output_type": "stream",
     "text": [
      "2023-03-16 13:09:00 Starting - Starting the training job...\n",
      "2023-03-16 13:09:29 Starting - Preparing the instances for trainingOverfit: InProgress\n",
      "LossNotDecreasing: InProgress\n",
      "VanishingGradient: InProgress\n",
      "PoorWeightInitialization: InProgress\n",
      "Overtraining: InProgress\n",
      "LowGPUUtilization: InProgress\n",
      "ProfilerReport: InProgress\n",
      "CPUBottleneck: InProgress\n",
      "...\n",
      "2023-03-16 13:10:01 Downloading - Downloading input data.........\n",
      "2023-03-16 13:11:30 Training - Training image download completed. Training in progress.\u001b[34mbash: cannot set terminal process group (-1): Inappropriate ioctl for device\u001b[0m\n",
      "\u001b[34mbash: no job control in this shell\u001b[0m\n",
      "\u001b[34m2023-03-16 13:11:18,371 sagemaker-training-toolkit INFO     Imported framework sagemaker_pytorch_container.training\u001b[0m\n",
      "\u001b[34m2023-03-16 13:11:18,373 sagemaker-training-toolkit INFO     No GPUs detected (normal if no gpus installed)\u001b[0m\n",
      "\u001b[34m2023-03-16 13:11:18,375 sagemaker-training-toolkit INFO     No Neurons detected (normal if no neurons installed)\u001b[0m\n",
      "\u001b[34m2023-03-16 13:11:18,385 sagemaker_pytorch_container.training INFO     Block until all host DNS lookups succeed.\u001b[0m\n",
      "\u001b[34m2023-03-16 13:11:18,387 sagemaker_pytorch_container.training INFO     Invoking user training script.\u001b[0m\n",
      "\u001b[34m2023-03-16 13:11:18,610 sagemaker-training-toolkit INFO     No GPUs detected (normal if no gpus installed)\u001b[0m\n",
      "\u001b[34m2023-03-16 13:11:18,613 sagemaker-training-toolkit INFO     No Neurons detected (normal if no neurons installed)\u001b[0m\n",
      "\u001b[34m2023-03-16 13:11:18,626 sagemaker-training-toolkit INFO     No GPUs detected (normal if no gpus installed)\u001b[0m\n",
      "\u001b[34m2023-03-16 13:11:18,628 sagemaker-training-toolkit INFO     No Neurons detected (normal if no neurons installed)\u001b[0m\n",
      "\u001b[34m2023-03-16 13:11:18,642 sagemaker-training-toolkit INFO     No GPUs detected (normal if no gpus installed)\u001b[0m\n",
      "\u001b[34m2023-03-16 13:11:18,644 sagemaker-training-toolkit INFO     No Neurons detected (normal if no neurons installed)\u001b[0m\n",
      "\u001b[34m2023-03-16 13:11:18,655 sagemaker-training-toolkit INFO     Invoking user script\u001b[0m\n",
      "\u001b[34mTraining Env:\u001b[0m\n",
      "\u001b[34m{\n",
      "    \"additional_framework_parameters\": {},\n",
      "    \"channel_input_dirs\": {\n",
      "        \"training\": \"/opt/ml/input/data/training\"\n",
      "    },\n",
      "    \"current_host\": \"algo-1\",\n",
      "    \"current_instance_group\": \"homogeneousCluster\",\n",
      "    \"current_instance_group_hosts\": [\n",
      "        \"algo-1\"\n",
      "    ],\n",
      "    \"current_instance_type\": \"ml.m5.2xlarge\",\n",
      "    \"distribution_hosts\": [],\n",
      "    \"distribution_instance_groups\": [],\n",
      "    \"framework_module\": \"sagemaker_pytorch_container.training:main\",\n",
      "    \"hosts\": [\n",
      "        \"algo-1\"\n",
      "    ],\n",
      "    \"hyperparameters\": {\n",
      "        \"batch_size\": \"\\\"64\\\"\",\n",
      "        \"dropout_rate\": \"\\\"0.4\\\"\",\n",
      "        \"epochs\": \"1\",\n",
      "        \"hidden_units\": \"\\\"512\\\"\",\n",
      "        \"lr\": \"0.00041344049002957486\",\n",
      "        \"test_batch_size\": \"\\\"64\\\"\"\n",
      "    },\n",
      "    \"input_config_dir\": \"/opt/ml/input/config\",\n",
      "    \"input_data_config\": {\n",
      "        \"training\": {\n",
      "            \"TrainingInputMode\": \"File\",\n",
      "            \"S3DistributionType\": \"FullyReplicated\",\n",
      "            \"RecordWrapperType\": \"None\"\n",
      "        }\n",
      "    },\n",
      "    \"input_dir\": \"/opt/ml/input\",\n",
      "    \"instance_groups\": [\n",
      "        \"homogeneousCluster\"\n",
      "    ],\n",
      "    \"instance_groups_dict\": {\n",
      "        \"homogeneousCluster\": {\n",
      "            \"instance_group_name\": \"homogeneousCluster\",\n",
      "            \"instance_type\": \"ml.m5.2xlarge\",\n",
      "            \"hosts\": [\n",
      "                \"algo-1\"\n",
      "            ]\n",
      "        }\n",
      "    },\n",
      "    \"is_hetero\": false,\n",
      "    \"is_master\": true,\n",
      "    \"is_modelparallel_enabled\": null,\n",
      "    \"is_smddpmprun_installed\": false,\n",
      "    \"job_name\": \"pytorch-training-2023-03-16-13-08-59-133\",\n",
      "    \"log_level\": 20,\n",
      "    \"master_hostname\": \"algo-1\",\n",
      "    \"model_dir\": \"/opt/ml/model\",\n",
      "    \"module_dir\": \"s3://sagemaker-us-east-1-624558554882/pytorch-training-2023-03-16-13-08-59-133/source/sourcedir.tar.gz\",\n",
      "    \"module_name\": \"train_model\",\n",
      "    \"network_interface_name\": \"eth0\",\n",
      "    \"num_cpus\": 8,\n",
      "    \"num_gpus\": 0,\n",
      "    \"num_neurons\": 0,\n",
      "    \"output_data_dir\": \"/opt/ml/output/data\",\n",
      "    \"output_dir\": \"/opt/ml/output\",\n",
      "    \"output_intermediate_dir\": \"/opt/ml/output/intermediate\",\n",
      "    \"resource_config\": {\n",
      "        \"current_host\": \"algo-1\",\n",
      "        \"current_instance_type\": \"ml.m5.2xlarge\",\n",
      "        \"current_group_name\": \"homogeneousCluster\",\n",
      "        \"hosts\": [\n",
      "            \"algo-1\"\n",
      "        ],\n",
      "        \"instance_groups\": [\n",
      "            {\n",
      "                \"instance_group_name\": \"homogeneousCluster\",\n",
      "                \"instance_type\": \"ml.m5.2xlarge\",\n",
      "                \"hosts\": [\n",
      "                    \"algo-1\"\n",
      "                ]\n",
      "            }\n",
      "        ],\n",
      "        \"network_interface_name\": \"eth0\"\n",
      "    },\n",
      "    \"user_entry_point\": \"train_model.py\"\u001b[0m\n",
      "\u001b[34m}\u001b[0m\n",
      "\u001b[34mEnvironment variables:\u001b[0m\n",
      "\u001b[34mSM_HOSTS=[\"algo-1\"]\u001b[0m\n",
      "\u001b[34mSM_NETWORK_INTERFACE_NAME=eth0\u001b[0m\n",
      "\u001b[34mSM_HPS={\"batch_size\":\"\\\"64\\\"\",\"dropout_rate\":\"\\\"0.4\\\"\",\"epochs\":\"1\",\"hidden_units\":\"\\\"512\\\"\",\"lr\":\"0.00041344049002957486\",\"test_batch_size\":\"\\\"64\\\"\"}\u001b[0m\n",
      "\u001b[34mSM_USER_ENTRY_POINT=train_model.py\u001b[0m\n",
      "\u001b[34mSM_FRAMEWORK_PARAMS={}\u001b[0m\n",
      "\u001b[34mSM_RESOURCE_CONFIG={\"current_group_name\":\"homogeneousCluster\",\"current_host\":\"algo-1\",\"current_instance_type\":\"ml.m5.2xlarge\",\"hosts\":[\"algo-1\"],\"instance_groups\":[{\"hosts\":[\"algo-1\"],\"instance_group_name\":\"homogeneousCluster\",\"instance_type\":\"ml.m5.2xlarge\"}],\"network_interface_name\":\"eth0\"}\u001b[0m\n",
      "\u001b[34mSM_INPUT_DATA_CONFIG={\"training\":{\"RecordWrapperType\":\"None\",\"S3DistributionType\":\"FullyReplicated\",\"TrainingInputMode\":\"File\"}}\u001b[0m\n",
      "\u001b[34mSM_OUTPUT_DATA_DIR=/opt/ml/output/data\u001b[0m\n",
      "\u001b[34mSM_CHANNELS=[\"training\"]\u001b[0m\n",
      "\u001b[34mSM_CURRENT_HOST=algo-1\u001b[0m\n",
      "\u001b[34mSM_CURRENT_INSTANCE_TYPE=ml.m5.2xlarge\u001b[0m\n",
      "\u001b[34mSM_CURRENT_INSTANCE_GROUP=homogeneousCluster\u001b[0m\n",
      "\u001b[34mSM_CURRENT_INSTANCE_GROUP_HOSTS=[\"algo-1\"]\u001b[0m\n",
      "\u001b[34mSM_INSTANCE_GROUPS=[\"homogeneousCluster\"]\u001b[0m\n",
      "\u001b[34mSM_INSTANCE_GROUPS_DICT={\"homogeneousCluster\":{\"hosts\":[\"algo-1\"],\"instance_group_name\":\"homogeneousCluster\",\"instance_type\":\"ml.m5.2xlarge\"}}\u001b[0m\n",
      "\u001b[34mSM_DISTRIBUTION_INSTANCE_GROUPS=[]\u001b[0m\n",
      "\u001b[34mSM_IS_HETERO=false\u001b[0m\n",
      "\u001b[34mSM_MODULE_NAME=train_model\u001b[0m\n",
      "\u001b[34mSM_LOG_LEVEL=20\u001b[0m\n",
      "\u001b[34mSM_FRAMEWORK_MODULE=sagemaker_pytorch_container.training:main\u001b[0m\n",
      "\u001b[34mSM_INPUT_DIR=/opt/ml/input\u001b[0m\n",
      "\u001b[34mSM_INPUT_CONFIG_DIR=/opt/ml/input/config\u001b[0m\n",
      "\u001b[34mSM_OUTPUT_DIR=/opt/ml/output\u001b[0m\n",
      "\u001b[34mSM_NUM_CPUS=8\u001b[0m\n",
      "\u001b[34mSM_NUM_GPUS=0\u001b[0m\n",
      "\u001b[34mSM_NUM_NEURONS=0\u001b[0m\n",
      "\u001b[34mSM_MODEL_DIR=/opt/ml/model\u001b[0m\n",
      "\u001b[34mSM_MODULE_DIR=s3://sagemaker-us-east-1-624558554882/pytorch-training-2023-03-16-13-08-59-133/source/sourcedir.tar.gz\u001b[0m\n",
      "\u001b[34mSM_TRAINING_ENV={\"additional_framework_parameters\":{},\"channel_input_dirs\":{\"training\":\"/opt/ml/input/data/training\"},\"current_host\":\"algo-1\",\"current_instance_group\":\"homogeneousCluster\",\"current_instance_group_hosts\":[\"algo-1\"],\"current_instance_type\":\"ml.m5.2xlarge\",\"distribution_hosts\":[],\"distribution_instance_groups\":[],\"framework_module\":\"sagemaker_pytorch_container.training:main\",\"hosts\":[\"algo-1\"],\"hyperparameters\":{\"batch_size\":\"\\\"64\\\"\",\"dropout_rate\":\"\\\"0.4\\\"\",\"epochs\":\"1\",\"hidden_units\":\"\\\"512\\\"\",\"lr\":\"0.00041344049002957486\",\"test_batch_size\":\"\\\"64\\\"\"},\"input_config_dir\":\"/opt/ml/input/config\",\"input_data_config\":{\"training\":{\"RecordWrapperType\":\"None\",\"S3DistributionType\":\"FullyReplicated\",\"TrainingInputMode\":\"File\"}},\"input_dir\":\"/opt/ml/input\",\"instance_groups\":[\"homogeneousCluster\"],\"instance_groups_dict\":{\"homogeneousCluster\":{\"hosts\":[\"algo-1\"],\"instance_group_name\":\"homogeneousCluster\",\"instance_type\":\"ml.m5.2xlarge\"}},\"is_hetero\":false,\"is_master\":true,\"is_modelparallel_enabled\":null,\"is_smddpmprun_installed\":false,\"job_name\":\"pytorch-training-2023-03-16-13-08-59-133\",\"log_level\":20,\"master_hostname\":\"algo-1\",\"model_dir\":\"/opt/ml/model\",\"module_dir\":\"s3://sagemaker-us-east-1-624558554882/pytorch-training-2023-03-16-13-08-59-133/source/sourcedir.tar.gz\",\"module_name\":\"train_model\",\"network_interface_name\":\"eth0\",\"num_cpus\":8,\"num_gpus\":0,\"num_neurons\":0,\"output_data_dir\":\"/opt/ml/output/data\",\"output_dir\":\"/opt/ml/output\",\"output_intermediate_dir\":\"/opt/ml/output/intermediate\",\"resource_config\":{\"current_group_name\":\"homogeneousCluster\",\"current_host\":\"algo-1\",\"current_instance_type\":\"ml.m5.2xlarge\",\"hosts\":[\"algo-1\"],\"instance_groups\":[{\"hosts\":[\"algo-1\"],\"instance_group_name\":\"homogeneousCluster\",\"instance_type\":\"ml.m5.2xlarge\"}],\"network_interface_name\":\"eth0\"},\"user_entry_point\":\"train_model.py\"}\u001b[0m\n",
      "\u001b[34mSM_USER_ARGS=[\"--batch_size\",\"\\\"64\\\"\",\"--dropout_rate\",\"\\\"0.4\\\"\",\"--epochs\",\"1\",\"--hidden_units\",\"\\\"512\\\"\",\"--lr\",\"0.00041344049002957486\",\"--test_batch_size\",\"\\\"64\\\"\"]\u001b[0m\n",
      "\u001b[34mSM_OUTPUT_INTERMEDIATE_DIR=/opt/ml/output/intermediate\u001b[0m\n",
      "\u001b[34mSM_CHANNEL_TRAINING=/opt/ml/input/data/training\u001b[0m\n",
      "\u001b[34mSM_HP_BATCH_SIZE=\"64\"\u001b[0m\n",
      "\u001b[34mSM_HP_DROPOUT_RATE=\"0.4\"\u001b[0m\n",
      "\u001b[34mSM_HP_EPOCHS=1\u001b[0m\n",
      "\u001b[34mSM_HP_HIDDEN_UNITS=\"512\"\u001b[0m\n",
      "\u001b[34mSM_HP_LR=0.00041344049002957486\u001b[0m\n",
      "\u001b[34mSM_HP_TEST_BATCH_SIZE=\"64\"\u001b[0m\n",
      "\u001b[34mPYTHONPATH=/opt/ml/code:/opt/conda/bin:/opt/conda/lib/python38.zip:/opt/conda/lib/python3.8:/opt/conda/lib/python3.8/lib-dynload:/opt/conda/lib/python3.8/site-packages:/opt/conda/lib/python3.8/site-packages/smdebug-1.0.24b20230214-py3.8.egg:/opt/conda/lib/python3.8/site-packages/pyinstrument-3.4.2-py3.8.egg:/opt/conda/lib/python3.8/site-packages/pyinstrument_cext-0.2.4-py3.8-linux-x86_64.egg\u001b[0m\n",
      "\u001b[34mInvoking script with the following command:\u001b[0m\n",
      "\u001b[34m/opt/conda/bin/python3.8 train_model.py --batch_size \"64\" --dropout_rate \"0.4\" --epochs 1 --hidden_units \"512\" --lr 0.00041344049002957486 --test_batch_size \"64\"\u001b[0m\n",
      "\u001b[34m2023-03-16 13:11:19,260 sagemaker-training-toolkit INFO     Exceptions not imported for SageMaker TF as Tensorflow is not installed.\u001b[0m\n",
      "\u001b[34m[2023-03-16 13:11:20.183 algo-1:47 INFO utils.py:28] RULE_JOB_STOP_SIGNAL_FILENAME: None\u001b[0m\n",
      "\u001b[34m/opt/conda/lib/python3.8/site-packages/smdebug-1.0.24b20230214-py3.8.egg/smdebug/profiler/system_metrics_reader.py:78: SyntaxWarning: \"is not\" with a literal. Did you mean \"!=\"?\u001b[0m\n",
      "\u001b[34m/opt/conda/lib/python3.8/site-packages/smdebug-1.0.24b20230214-py3.8.egg/smdebug/profiler/system_metrics_reader.py:78: SyntaxWarning: \"is not\" with a literal. Did you mean \"!=\"?\u001b[0m\n",
      "\u001b[34m[2023-03-16 13:11:20.772 algo-1:47 INFO profiler_config_parser.py:111] Using config at /opt/ml/input/config/profilerconfig.json.\u001b[0m\n",
      "\u001b[34mDownloading: \"https://download.pytorch.org/models/densenet121-a639ec97.pth\" to /root/.cache/torch/hub/checkpoints/densenet121-a639ec97.pth\u001b[0m\n",
      "\u001b[34m0%|          | 0.00/30.8M [00:00<?, ?B/s]\u001b[0m\n",
      "\u001b[34m13%|█▎        | 4.09M/30.8M [00:00<00:00, 32.9MB/s]\u001b[0m\n",
      "\u001b[34m36%|███▌      | 11.0M/30.8M [00:00<00:00, 35.2MB/s]\u001b[0m\n",
      "\u001b[34m52%|█████▏    | 16.0M/30.8M [00:00<00:00, 36.6MB/s]\u001b[0m\n",
      "\u001b[34m77%|███████▋  | 23.9M/30.8M [00:00<00:00, 50.2MB/s]\u001b[0m\n",
      "\u001b[34m97%|█████████▋| 30.0M/30.8M [00:00<00:00, 54.5MB/s]\u001b[0m\n",
      "\u001b[34m100%|██████████| 30.8M/30.8M [00:00<00:00, 47.9MB/s]\u001b[0m\n",
      "\u001b[34m[2023-03-16 13:11:23.244 algo-1:47 INFO json_config.py:92] Creating hook from json_config at /opt/ml/input/config/debughookconfig.json.\u001b[0m\n",
      "\u001b[34m[2023-03-16 13:11:23.246 algo-1:47 INFO hook.py:206] tensorboard_dir has not been set for the hook. SMDebug will not be exporting tensorboard summaries.\u001b[0m\n",
      "\u001b[34m[2023-03-16 13:11:23.247 algo-1:47 INFO hook.py:259] Saving to /opt/ml/output/tensors\u001b[0m\n",
      "\u001b[34m[2023-03-16 13:11:23.247 algo-1:47 INFO state_store.py:77] The checkpoint config file /opt/ml/input/config/checkpointconfig.json does not exist.\u001b[0m\n",
      "\u001b[34m[2023-03-16 13:11:23.310 algo-1:47 INFO hook.py:561] name:module.features.conv0.weight count_params:9408\u001b[0m\n",
      "\u001b[34m[2023-03-16 13:11:23.311 algo-1:47 INFO hook.py:561] name:module.features.norm0.weight count_params:64\u001b[0m\n",
      "\u001b[34m[2023-03-16 13:11:23.311 algo-1:47 INFO hook.py:561] name:module.features.norm0.bias count_params:64\u001b[0m\n",
      "\u001b[34m[2023-03-16 13:11:23.311 algo-1:47 INFO hook.py:561] name:module.features.denseblock1.denselayer1.norm1.weight count_params:64\u001b[0m\n",
      "\u001b[34m[2023-03-16 13:11:23.312 algo-1:47 INFO hook.py:561] name:module.features.denseblock1.denselayer1.norm1.bias count_params:64\u001b[0m\n",
      "\u001b[34m[2023-03-16 13:11:23.312 algo-1:47 INFO hook.py:561] name:module.features.denseblock1.denselayer1.conv1.weight count_params:8192\u001b[0m\n",
      "\u001b[34m[2023-03-16 13:11:23.312 algo-1:47 INFO hook.py:561] name:module.features.denseblock1.denselayer1.norm2.weight count_params:128\u001b[0m\n",
      "\u001b[34m[2023-03-16 13:11:23.312 algo-1:47 INFO hook.py:561] name:module.features.denseblock1.denselayer1.norm2.bias count_params:128\u001b[0m\n",
      "\u001b[34m[2023-03-16 13:11:23.313 algo-1:47 INFO hook.py:561] name:module.features.denseblock1.denselayer1.conv2.weight count_params:36864\u001b[0m\n",
      "\u001b[34m[2023-03-16 13:11:23.313 algo-1:47 INFO hook.py:561] name:module.features.denseblock1.denselayer2.norm1.weight count_params:96\u001b[0m\n",
      "\u001b[34m[2023-03-16 13:11:23.313 algo-1:47 INFO hook.py:561] name:module.features.denseblock1.denselayer2.norm1.bias count_params:96\u001b[0m\n",
      "\u001b[34m[2023-03-16 13:11:23.314 algo-1:47 INFO hook.py:561] name:module.features.denseblock1.denselayer2.conv1.weight count_params:12288\u001b[0m\n",
      "\u001b[34m[2023-03-16 13:11:23.314 algo-1:47 INFO hook.py:561] name:module.features.denseblock1.denselayer2.norm2.weight count_params:128\u001b[0m\n",
      "\u001b[34m[2023-03-16 13:11:23.314 algo-1:47 INFO hook.py:561] name:module.features.denseblock1.denselayer2.norm2.bias count_params:128\u001b[0m\n",
      "\u001b[34m[2023-03-16 13:11:23.314 algo-1:47 INFO hook.py:561] name:module.features.denseblock1.denselayer2.conv2.weight count_params:36864\u001b[0m\n",
      "\u001b[34m[2023-03-16 13:11:23.315 algo-1:47 INFO hook.py:561] name:module.features.denseblock1.denselayer3.norm1.weight count_params:128\u001b[0m\n",
      "\u001b[34m[2023-03-16 13:11:23.315 algo-1:47 INFO hook.py:561] name:module.features.denseblock1.denselayer3.norm1.bias count_params:128\u001b[0m\n",
      "\u001b[34m[2023-03-16 13:11:23.315 algo-1:47 INFO hook.py:561] name:module.features.denseblock1.denselayer3.conv1.weight count_params:16384\u001b[0m\n",
      "\u001b[34m[2023-03-16 13:11:23.315 algo-1:47 INFO hook.py:561] name:module.features.denseblock1.denselayer3.norm2.weight count_params:128\u001b[0m\n",
      "\u001b[34m[2023-03-16 13:11:23.316 algo-1:47 INFO hook.py:561] name:module.features.denseblock1.denselayer3.norm2.bias count_params:128\u001b[0m\n",
      "\u001b[34m[2023-03-16 13:11:23.316 algo-1:47 INFO hook.py:561] name:module.features.denseblock1.denselayer3.conv2.weight count_params:36864\u001b[0m\n",
      "\u001b[34m[2023-03-16 13:11:23.316 algo-1:47 INFO hook.py:561] name:module.features.denseblock1.denselayer4.norm1.weight count_params:160\u001b[0m\n",
      "\u001b[34m[2023-03-16 13:11:23.316 algo-1:47 INFO hook.py:561] name:module.features.denseblock1.denselayer4.norm1.bias count_params:160\u001b[0m\n",
      "\u001b[34m[2023-03-16 13:11:23.317 algo-1:47 INFO hook.py:561] name:module.features.denseblock1.denselayer4.conv1.weight count_params:20480\u001b[0m\n",
      "\u001b[34m[2023-03-16 13:11:23.317 algo-1:47 INFO hook.py:561] name:module.features.denseblock1.denselayer4.norm2.weight count_params:128\u001b[0m\n",
      "\u001b[34m[2023-03-16 13:11:23.317 algo-1:47 INFO hook.py:561] name:module.features.denseblock1.denselayer4.norm2.bias count_params:128\u001b[0m\n",
      "\u001b[34m[2023-03-16 13:11:23.318 algo-1:47 INFO hook.py:561] name:module.features.denseblock1.denselayer4.conv2.weight count_params:36864\u001b[0m\n",
      "\u001b[34m[2023-03-16 13:11:23.318 algo-1:47 INFO hook.py:561] name:module.features.denseblock1.denselayer5.norm1.weight count_params:192\u001b[0m\n",
      "\u001b[34m[2023-03-16 13:11:23.318 algo-1:47 INFO hook.py:561] name:module.features.denseblock1.denselayer5.norm1.bias count_params:192\u001b[0m\n",
      "\u001b[34m[2023-03-16 13:11:23.318 algo-1:47 INFO hook.py:561] name:module.features.denseblock1.denselayer5.conv1.weight count_params:24576\u001b[0m\n",
      "\u001b[34m[2023-03-16 13:11:23.319 algo-1:47 INFO hook.py:561] name:module.features.denseblock1.denselayer5.norm2.weight count_params:128\u001b[0m\n",
      "\u001b[34m[2023-03-16 13:11:23.319 algo-1:47 INFO hook.py:561] name:module.features.denseblock1.denselayer5.norm2.bias count_params:128\u001b[0m\n",
      "\u001b[34m[2023-03-16 13:11:23.319 algo-1:47 INFO hook.py:561] name:module.features.denseblock1.denselayer5.conv2.weight count_params:36864\u001b[0m\n",
      "\u001b[34m[2023-03-16 13:11:23.319 algo-1:47 INFO hook.py:561] name:module.features.denseblock1.denselayer6.norm1.weight count_params:224\u001b[0m\n",
      "\u001b[34m[2023-03-16 13:11:23.320 algo-1:47 INFO hook.py:561] name:module.features.denseblock1.denselayer6.norm1.bias count_params:224\u001b[0m\n",
      "\u001b[34m[2023-03-16 13:11:23.320 algo-1:47 INFO hook.py:561] name:module.features.denseblock1.denselayer6.conv1.weight count_params:28672\u001b[0m\n",
      "\u001b[34m[2023-03-16 13:11:23.320 algo-1:47 INFO hook.py:561] name:module.features.denseblock1.denselayer6.norm2.weight count_params:128\u001b[0m\n",
      "\u001b[34m[2023-03-16 13:11:23.320 algo-1:47 INFO hook.py:561] name:module.features.denseblock1.denselayer6.norm2.bias count_params:128\u001b[0m\n",
      "\u001b[34m[2023-03-16 13:11:23.321 algo-1:47 INFO hook.py:561] name:module.features.denseblock1.denselayer6.conv2.weight count_params:36864\u001b[0m\n",
      "\u001b[34m[2023-03-16 13:11:23.321 algo-1:47 INFO hook.py:561] name:module.features.transition1.norm.weight count_params:256\u001b[0m\n",
      "\u001b[34m[2023-03-16 13:11:23.321 algo-1:47 INFO hook.py:561] name:module.features.transition1.norm.bias count_params:256\u001b[0m\n",
      "\u001b[34m[2023-03-16 13:11:23.322 algo-1:47 INFO hook.py:561] name:module.features.transition1.conv.weight count_params:32768\u001b[0m\n",
      "\u001b[34m[2023-03-16 13:11:23.322 algo-1:47 INFO hook.py:561] name:module.features.denseblock2.denselayer1.norm1.weight count_params:128\u001b[0m\n",
      "\u001b[34m[2023-03-16 13:11:23.322 algo-1:47 INFO hook.py:561] name:module.features.denseblock2.denselayer1.norm1.bias count_params:128\u001b[0m\n",
      "\u001b[34m[2023-03-16 13:11:23.322 algo-1:47 INFO hook.py:561] name:module.features.denseblock2.denselayer1.conv1.weight count_params:16384\u001b[0m\n",
      "\u001b[34m[2023-03-16 13:11:23.323 algo-1:47 INFO hook.py:561] name:module.features.denseblock2.denselayer1.norm2.weight count_params:128\u001b[0m\n",
      "\u001b[34m[2023-03-16 13:11:23.323 algo-1:47 INFO hook.py:561] name:module.features.denseblock2.denselayer1.norm2.bias count_params:128\u001b[0m\n",
      "\u001b[34m[2023-03-16 13:11:23.323 algo-1:47 INFO hook.py:561] name:module.features.denseblock2.denselayer1.conv2.weight count_params:36864\u001b[0m\n",
      "\u001b[34m[2023-03-16 13:11:23.323 algo-1:47 INFO hook.py:561] name:module.features.denseblock2.denselayer2.norm1.weight count_params:160\u001b[0m\n",
      "\u001b[34m[2023-03-16 13:11:23.324 algo-1:47 INFO hook.py:561] name:module.features.denseblock2.denselayer2.norm1.bias count_params:160\u001b[0m\n",
      "\u001b[34m[2023-03-16 13:11:23.324 algo-1:47 INFO hook.py:561] name:module.features.denseblock2.denselayer2.conv1.weight count_params:20480\u001b[0m\n",
      "\u001b[34m[2023-03-16 13:11:23.324 algo-1:47 INFO hook.py:561] name:module.features.denseblock2.denselayer2.norm2.weight count_params:128\u001b[0m\n",
      "\u001b[34m[2023-03-16 13:11:23.324 algo-1:47 INFO hook.py:561] name:module.features.denseblock2.denselayer2.norm2.bias count_params:128\u001b[0m\n",
      "\u001b[34m[2023-03-16 13:11:23.325 algo-1:47 INFO hook.py:561] name:module.features.denseblock2.denselayer2.conv2.weight count_params:36864\u001b[0m\n",
      "\u001b[34m[2023-03-16 13:11:23.325 algo-1:47 INFO hook.py:561] name:module.features.denseblock2.denselayer3.norm1.weight count_params:192\u001b[0m\n",
      "\u001b[34m[2023-03-16 13:11:23.325 algo-1:47 INFO hook.py:561] name:module.features.denseblock2.denselayer3.norm1.bias count_params:192\u001b[0m\n",
      "\u001b[34m[2023-03-16 13:11:23.326 algo-1:47 INFO hook.py:561] name:module.features.denseblock2.denselayer3.conv1.weight count_params:24576\u001b[0m\n",
      "\u001b[34m[2023-03-16 13:11:23.326 algo-1:47 INFO hook.py:561] name:module.features.denseblock2.denselayer3.norm2.weight count_params:128\u001b[0m\n",
      "\u001b[34m[2023-03-16 13:11:23.326 algo-1:47 INFO hook.py:561] name:module.features.denseblock2.denselayer3.norm2.bias count_params:128\u001b[0m\n",
      "\u001b[34m[2023-03-16 13:11:23.326 algo-1:47 INFO hook.py:561] name:module.features.denseblock2.denselayer3.conv2.weight count_params:36864\u001b[0m\n",
      "\u001b[34m[2023-03-16 13:11:23.327 algo-1:47 INFO hook.py:561] name:module.features.denseblock2.denselayer4.norm1.weight count_params:224\u001b[0m\n",
      "\u001b[34m[2023-03-16 13:11:23.327 algo-1:47 INFO hook.py:561] name:module.features.denseblock2.denselayer4.norm1.bias count_params:224\u001b[0m\n",
      "\u001b[34m[2023-03-16 13:11:23.327 algo-1:47 INFO hook.py:561] name:module.features.denseblock2.denselayer4.conv1.weight count_params:28672\u001b[0m\n",
      "\u001b[34m[2023-03-16 13:11:23.327 algo-1:47 INFO hook.py:561] name:module.features.denseblock2.denselayer4.norm2.weight count_params:128\u001b[0m\n",
      "\u001b[34m[2023-03-16 13:11:23.328 algo-1:47 INFO hook.py:561] name:module.features.denseblock2.denselayer4.norm2.bias count_params:128\u001b[0m\n",
      "\u001b[34m[2023-03-16 13:11:23.328 algo-1:47 INFO hook.py:561] name:module.features.denseblock2.denselayer4.conv2.weight count_params:36864\u001b[0m\n",
      "\u001b[34m[2023-03-16 13:11:23.328 algo-1:47 INFO hook.py:561] name:module.features.denseblock2.denselayer5.norm1.weight count_params:256\u001b[0m\n",
      "\u001b[34m[2023-03-16 13:11:23.328 algo-1:47 INFO hook.py:561] name:module.features.denseblock2.denselayer5.norm1.bias count_params:256\u001b[0m\n",
      "\u001b[34m[2023-03-16 13:11:23.329 algo-1:47 INFO hook.py:561] name:module.features.denseblock2.denselayer5.conv1.weight count_params:32768\u001b[0m\n",
      "\u001b[34m[2023-03-16 13:11:23.329 algo-1:47 INFO hook.py:561] name:module.features.denseblock2.denselayer5.norm2.weight count_params:128\u001b[0m\n",
      "\u001b[34m[2023-03-16 13:11:23.329 algo-1:47 INFO hook.py:561] name:module.features.denseblock2.denselayer5.norm2.bias count_params:128\u001b[0m\n",
      "\u001b[34m[2023-03-16 13:11:23.330 algo-1:47 INFO hook.py:561] name:module.features.denseblock2.denselayer5.conv2.weight count_params:36864\u001b[0m\n",
      "\u001b[34m[2023-03-16 13:11:23.330 algo-1:47 INFO hook.py:561] name:module.features.denseblock2.denselayer6.norm1.weight count_params:288\u001b[0m\n",
      "\u001b[34m[2023-03-16 13:11:23.330 algo-1:47 INFO hook.py:561] name:module.features.denseblock2.denselayer6.norm1.bias count_params:288\u001b[0m\n",
      "\u001b[34m[2023-03-16 13:11:23.330 algo-1:47 INFO hook.py:561] name:module.features.denseblock2.denselayer6.conv1.weight count_params:36864\u001b[0m\n",
      "\u001b[34m[2023-03-16 13:11:23.331 algo-1:47 INFO hook.py:561] name:module.features.denseblock2.denselayer6.norm2.weight count_params:128\u001b[0m\n",
      "\u001b[34m[2023-03-16 13:11:23.331 algo-1:47 INFO hook.py:561] name:module.features.denseblock2.denselayer6.norm2.bias count_params:128\u001b[0m\n",
      "\u001b[34m[2023-03-16 13:11:23.331 algo-1:47 INFO hook.py:561] name:module.features.denseblock2.denselayer6.conv2.weight count_params:36864\u001b[0m\n",
      "\u001b[34m[2023-03-16 13:11:23.331 algo-1:47 INFO hook.py:561] name:module.features.denseblock2.denselayer7.norm1.weight count_params:320\u001b[0m\n",
      "\u001b[34m[2023-03-16 13:11:23.332 algo-1:47 INFO hook.py:561] name:module.features.denseblock2.denselayer7.norm1.bias count_params:320\u001b[0m\n",
      "\u001b[34m[2023-03-16 13:11:23.332 algo-1:47 INFO hook.py:561] name:module.features.denseblock2.denselayer7.conv1.weight count_params:40960\u001b[0m\n",
      "\u001b[34m[2023-03-16 13:11:23.332 algo-1:47 INFO hook.py:561] name:module.features.denseblock2.denselayer7.norm2.weight count_params:128\u001b[0m\n",
      "\u001b[34m[2023-03-16 13:11:23.332 algo-1:47 INFO hook.py:561] name:module.features.denseblock2.denselayer7.norm2.bias count_params:128\u001b[0m\n",
      "\u001b[34m[2023-03-16 13:11:23.333 algo-1:47 INFO hook.py:561] name:module.features.denseblock2.denselayer7.conv2.weight count_params:36864\u001b[0m\n",
      "\u001b[34m[2023-03-16 13:11:23.333 algo-1:47 INFO hook.py:561] name:module.features.denseblock2.denselayer8.norm1.weight count_params:352\u001b[0m\n",
      "\u001b[34m[2023-03-16 13:11:23.333 algo-1:47 INFO hook.py:561] name:module.features.denseblock2.denselayer8.norm1.bias count_params:352\u001b[0m\n",
      "\u001b[34m[2023-03-16 13:11:23.333 algo-1:47 INFO hook.py:561] name:module.features.denseblock2.denselayer8.conv1.weight count_params:45056\u001b[0m\n",
      "\u001b[34m[2023-03-16 13:11:23.334 algo-1:47 INFO hook.py:561] name:module.features.denseblock2.denselayer8.norm2.weight count_params:128\u001b[0m\n",
      "\u001b[34m[2023-03-16 13:11:23.334 algo-1:47 INFO hook.py:561] name:module.features.denseblock2.denselayer8.norm2.bias count_params:128\u001b[0m\n",
      "\u001b[34m[2023-03-16 13:11:23.334 algo-1:47 INFO hook.py:561] name:module.features.denseblock2.denselayer8.conv2.weight count_params:36864\u001b[0m\n",
      "\u001b[34m[2023-03-16 13:11:23.335 algo-1:47 INFO hook.py:561] name:module.features.denseblock2.denselayer9.norm1.weight count_params:384\u001b[0m\n",
      "\u001b[34m[2023-03-16 13:11:23.335 algo-1:47 INFO hook.py:561] name:module.features.denseblock2.denselayer9.norm1.bias count_params:384\u001b[0m\n",
      "\u001b[34m[2023-03-16 13:11:23.335 algo-1:47 INFO hook.py:561] name:module.features.denseblock2.denselayer9.conv1.weight count_params:49152\u001b[0m\n",
      "\u001b[34m[2023-03-16 13:11:23.335 algo-1:47 INFO hook.py:561] name:module.features.denseblock2.denselayer9.norm2.weight count_params:128\u001b[0m\n",
      "\u001b[34m[2023-03-16 13:11:23.336 algo-1:47 INFO hook.py:561] name:module.features.denseblock2.denselayer9.norm2.bias count_params:128\u001b[0m\n",
      "\u001b[34m[2023-03-16 13:11:23.336 algo-1:47 INFO hook.py:561] name:module.features.denseblock2.denselayer9.conv2.weight count_params:36864\u001b[0m\n",
      "\u001b[34m[2023-03-16 13:11:23.336 algo-1:47 INFO hook.py:561] name:module.features.denseblock2.denselayer10.norm1.weight count_params:416\u001b[0m\n",
      "\u001b[34m[2023-03-16 13:11:23.336 algo-1:47 INFO hook.py:561] name:module.features.denseblock2.denselayer10.norm1.bias count_params:416\u001b[0m\n",
      "\u001b[34m[2023-03-16 13:11:23.337 algo-1:47 INFO hook.py:561] name:module.features.denseblock2.denselayer10.conv1.weight count_params:53248\u001b[0m\n",
      "\u001b[34m[2023-03-16 13:11:23.337 algo-1:47 INFO hook.py:561] name:module.features.denseblock2.denselayer10.norm2.weight count_params:128\u001b[0m\n",
      "\u001b[34m[2023-03-16 13:11:23.337 algo-1:47 INFO hook.py:561] name:module.features.denseblock2.denselayer10.norm2.bias count_params:128\u001b[0m\n",
      "\u001b[34m[2023-03-16 13:11:23.337 algo-1:47 INFO hook.py:561] name:module.features.denseblock2.denselayer10.conv2.weight count_params:36864\u001b[0m\n",
      "\u001b[34m[2023-03-16 13:11:23.338 algo-1:47 INFO hook.py:561] name:module.features.denseblock2.denselayer11.norm1.weight count_params:448\u001b[0m\n",
      "\u001b[34m[2023-03-16 13:11:23.338 algo-1:47 INFO hook.py:561] name:module.features.denseblock2.denselayer11.norm1.bias count_params:448\u001b[0m\n",
      "\u001b[34m[2023-03-16 13:11:23.338 algo-1:47 INFO hook.py:561] name:module.features.denseblock2.denselayer11.conv1.weight count_params:57344\u001b[0m\n",
      "\u001b[34m[2023-03-16 13:11:23.338 algo-1:47 INFO hook.py:561] name:module.features.denseblock2.denselayer11.norm2.weight count_params:128\u001b[0m\n",
      "\u001b[34m[2023-03-16 13:11:23.339 algo-1:47 INFO hook.py:561] name:module.features.denseblock2.denselayer11.norm2.bias count_params:128\u001b[0m\n",
      "\u001b[34m[2023-03-16 13:11:23.339 algo-1:47 INFO hook.py:561] name:module.features.denseblock2.denselayer11.conv2.weight count_params:36864\u001b[0m\n",
      "\u001b[34m[2023-03-16 13:11:23.339 algo-1:47 INFO hook.py:561] name:module.features.denseblock2.denselayer12.norm1.weight count_params:480\u001b[0m\n",
      "\u001b[34m[2023-03-16 13:11:23.340 algo-1:47 INFO hook.py:561] name:module.features.denseblock2.denselayer12.norm1.bias count_params:480\u001b[0m\n",
      "\u001b[34m[2023-03-16 13:11:23.340 algo-1:47 INFO hook.py:561] name:module.features.denseblock2.denselayer12.conv1.weight count_params:61440\u001b[0m\n",
      "\u001b[34m[2023-03-16 13:11:23.340 algo-1:47 INFO hook.py:561] name:module.features.denseblock2.denselayer12.norm2.weight count_params:128\u001b[0m\n",
      "\u001b[34m[2023-03-16 13:11:23.340 algo-1:47 INFO hook.py:561] name:module.features.denseblock2.denselayer12.norm2.bias count_params:128\u001b[0m\n",
      "\u001b[34m[2023-03-16 13:11:23.341 algo-1:47 INFO hook.py:561] name:module.features.denseblock2.denselayer12.conv2.weight count_params:36864\u001b[0m\n",
      "\u001b[34m[2023-03-16 13:11:23.341 algo-1:47 INFO hook.py:561] name:module.features.transition2.norm.weight count_params:512\u001b[0m\n",
      "\u001b[34m[2023-03-16 13:11:23.341 algo-1:47 INFO hook.py:561] name:module.features.transition2.norm.bias count_params:512\u001b[0m\n",
      "\u001b[34m[2023-03-16 13:11:23.341 algo-1:47 INFO hook.py:561] name:module.features.transition2.conv.weight count_params:131072\u001b[0m\n",
      "\u001b[34m[2023-03-16 13:11:23.342 algo-1:47 INFO hook.py:561] name:module.features.denseblock3.denselayer1.norm1.weight count_params:256\u001b[0m\n",
      "\u001b[34m[2023-03-16 13:11:23.342 algo-1:47 INFO hook.py:561] name:module.features.denseblock3.denselayer1.norm1.bias count_params:256\u001b[0m\n",
      "\u001b[34m[2023-03-16 13:11:23.342 algo-1:47 INFO hook.py:561] name:module.features.denseblock3.denselayer1.conv1.weight count_params:32768\u001b[0m\n",
      "\u001b[34m[2023-03-16 13:11:23.343 algo-1:47 INFO hook.py:561] name:module.features.denseblock3.denselayer1.norm2.weight count_params:128\u001b[0m\n",
      "\u001b[34m[2023-03-16 13:11:23.343 algo-1:47 INFO hook.py:561] name:module.features.denseblock3.denselayer1.norm2.bias count_params:128\u001b[0m\n",
      "\u001b[34m[2023-03-16 13:11:23.343 algo-1:47 INFO hook.py:561] name:module.features.denseblock3.denselayer1.conv2.weight count_params:36864\u001b[0m\n",
      "\u001b[34m[2023-03-16 13:11:23.343 algo-1:47 INFO hook.py:561] name:module.features.denseblock3.denselayer2.norm1.weight count_params:288\u001b[0m\n",
      "\u001b[34m[2023-03-16 13:11:23.344 algo-1:47 INFO hook.py:561] name:module.features.denseblock3.denselayer2.norm1.bias count_params:288\u001b[0m\n",
      "\u001b[34m[2023-03-16 13:11:23.344 algo-1:47 INFO hook.py:561] name:module.features.denseblock3.denselayer2.conv1.weight count_params:36864\u001b[0m\n",
      "\u001b[34m[2023-03-16 13:11:23.344 algo-1:47 INFO hook.py:561] name:module.features.denseblock3.denselayer2.norm2.weight count_params:128\u001b[0m\n",
      "\u001b[34m[2023-03-16 13:11:23.344 algo-1:47 INFO hook.py:561] name:module.features.denseblock3.denselayer2.norm2.bias count_params:128\u001b[0m\n",
      "\u001b[34m[2023-03-16 13:11:23.345 algo-1:47 INFO hook.py:561] name:module.features.denseblock3.denselayer2.conv2.weight count_params:36864\u001b[0m\n",
      "\u001b[34m[2023-03-16 13:11:23.345 algo-1:47 INFO hook.py:561] name:module.features.denseblock3.denselayer3.norm1.weight count_params:320\u001b[0m\n",
      "\u001b[34m[2023-03-16 13:11:23.345 algo-1:47 INFO hook.py:561] name:module.features.denseblock3.denselayer3.norm1.bias count_params:320\u001b[0m\n",
      "\u001b[34m[2023-03-16 13:11:23.345 algo-1:47 INFO hook.py:561] name:module.features.denseblock3.denselayer3.conv1.weight count_params:40960\u001b[0m\n",
      "\u001b[34m[2023-03-16 13:11:23.346 algo-1:47 INFO hook.py:561] name:module.features.denseblock3.denselayer3.norm2.weight count_params:128\u001b[0m\n",
      "\u001b[34m[2023-03-16 13:11:23.346 algo-1:47 INFO hook.py:561] name:module.features.denseblock3.denselayer3.norm2.bias count_params:128\u001b[0m\n",
      "\u001b[34m[2023-03-16 13:11:23.346 algo-1:47 INFO hook.py:561] name:module.features.denseblock3.denselayer3.conv2.weight count_params:36864\u001b[0m\n",
      "\u001b[34m[2023-03-16 13:11:23.346 algo-1:47 INFO hook.py:561] name:module.features.denseblock3.denselayer4.norm1.weight count_params:352\u001b[0m\n",
      "\u001b[34m[2023-03-16 13:11:23.347 algo-1:47 INFO hook.py:561] name:module.features.denseblock3.denselayer4.norm1.bias count_params:352\u001b[0m\n",
      "\u001b[34m[2023-03-16 13:11:23.347 algo-1:47 INFO hook.py:561] name:module.features.denseblock3.denselayer4.conv1.weight count_params:45056\u001b[0m\n",
      "\u001b[34m[2023-03-16 13:11:23.347 algo-1:47 INFO hook.py:561] name:module.features.denseblock3.denselayer4.norm2.weight count_params:128\u001b[0m\n",
      "\u001b[34m[2023-03-16 13:11:23.347 algo-1:47 INFO hook.py:561] name:module.features.denseblock3.denselayer4.norm2.bias count_params:128\u001b[0m\n",
      "\u001b[34m[2023-03-16 13:11:23.348 algo-1:47 INFO hook.py:561] name:module.features.denseblock3.denselayer4.conv2.weight count_params:36864\u001b[0m\n",
      "\u001b[34m[2023-03-16 13:11:23.348 algo-1:47 INFO hook.py:561] name:module.features.denseblock3.denselayer5.norm1.weight count_params:384\u001b[0m\n",
      "\u001b[34m[2023-03-16 13:11:23.348 algo-1:47 INFO hook.py:561] name:module.features.denseblock3.denselayer5.norm1.bias count_params:384\u001b[0m\n",
      "\u001b[34m[2023-03-16 13:11:23.349 algo-1:47 INFO hook.py:561] name:module.features.denseblock3.denselayer5.conv1.weight count_params:49152\u001b[0m\n",
      "\u001b[34m[2023-03-16 13:11:23.349 algo-1:47 INFO hook.py:561] name:module.features.denseblock3.denselayer5.norm2.weight count_params:128\u001b[0m\n",
      "\u001b[34m[2023-03-16 13:11:23.349 algo-1:47 INFO hook.py:561] name:module.features.denseblock3.denselayer5.norm2.bias count_params:128\u001b[0m\n",
      "\u001b[34m[2023-03-16 13:11:23.350 algo-1:47 INFO hook.py:561] name:module.features.denseblock3.denselayer5.conv2.weight count_params:36864\u001b[0m\n",
      "\u001b[34m[2023-03-16 13:11:23.350 algo-1:47 INFO hook.py:561] name:module.features.denseblock3.denselayer6.norm1.weight count_params:416\u001b[0m\n",
      "\u001b[34m[2023-03-16 13:11:23.350 algo-1:47 INFO hook.py:561] name:module.features.denseblock3.denselayer6.norm1.bias count_params:416\u001b[0m\n",
      "\u001b[34m[2023-03-16 13:11:23.350 algo-1:47 INFO hook.py:561] name:module.features.denseblock3.denselayer6.conv1.weight count_params:53248\u001b[0m\n",
      "\u001b[34m[2023-03-16 13:11:23.351 algo-1:47 INFO hook.py:561] name:module.features.denseblock3.denselayer6.norm2.weight count_params:128\u001b[0m\n",
      "\u001b[34m[2023-03-16 13:11:23.351 algo-1:47 INFO hook.py:561] name:module.features.denseblock3.denselayer6.norm2.bias count_params:128\u001b[0m\n",
      "\u001b[34m[2023-03-16 13:11:23.351 algo-1:47 INFO hook.py:561] name:module.features.denseblock3.denselayer6.conv2.weight count_params:36864\u001b[0m\n",
      "\u001b[34m[2023-03-16 13:11:23.351 algo-1:47 INFO hook.py:561] name:module.features.denseblock3.denselayer7.norm1.weight count_params:448\u001b[0m\n",
      "\u001b[34m[2023-03-16 13:11:23.352 algo-1:47 INFO hook.py:561] name:module.features.denseblock3.denselayer7.norm1.bias count_params:448\u001b[0m\n",
      "\u001b[34m[2023-03-16 13:11:23.352 algo-1:47 INFO hook.py:561] name:module.features.denseblock3.denselayer7.conv1.weight count_params:57344\u001b[0m\n",
      "\u001b[34m[2023-03-16 13:11:23.352 algo-1:47 INFO hook.py:561] name:module.features.denseblock3.denselayer7.norm2.weight count_params:128\u001b[0m\n",
      "\u001b[34m[2023-03-16 13:11:23.353 algo-1:47 INFO hook.py:561] name:module.features.denseblock3.denselayer7.norm2.bias count_params:128\u001b[0m\n",
      "\u001b[34m[2023-03-16 13:11:23.353 algo-1:47 INFO hook.py:561] name:module.features.denseblock3.denselayer7.conv2.weight count_params:36864\u001b[0m\n",
      "\u001b[34m[2023-03-16 13:11:23.353 algo-1:47 INFO hook.py:561] name:module.features.denseblock3.denselayer8.norm1.weight count_params:480\u001b[0m\n",
      "\u001b[34m[2023-03-16 13:11:23.353 algo-1:47 INFO hook.py:561] name:module.features.denseblock3.denselayer8.norm1.bias count_params:480\u001b[0m\n",
      "\u001b[34m[2023-03-16 13:11:23.354 algo-1:47 INFO hook.py:561] name:module.features.denseblock3.denselayer8.conv1.weight count_params:61440\u001b[0m\n",
      "\u001b[34m[2023-03-16 13:11:23.354 algo-1:47 INFO hook.py:561] name:module.features.denseblock3.denselayer8.norm2.weight count_params:128\u001b[0m\n",
      "\u001b[34m[2023-03-16 13:11:23.354 algo-1:47 INFO hook.py:561] name:module.features.denseblock3.denselayer8.norm2.bias count_params:128\u001b[0m\n",
      "\u001b[34m[2023-03-16 13:11:23.355 algo-1:47 INFO hook.py:561] name:module.features.denseblock3.denselayer8.conv2.weight count_params:36864\u001b[0m\n",
      "\u001b[34m[2023-03-16 13:11:23.355 algo-1:47 INFO hook.py:561] name:module.features.denseblock3.denselayer9.norm1.weight count_params:512\u001b[0m\n",
      "\u001b[34m[2023-03-16 13:11:23.355 algo-1:47 INFO hook.py:561] name:module.features.denseblock3.denselayer9.norm1.bias count_params:512\u001b[0m\n",
      "\u001b[34m[2023-03-16 13:11:23.355 algo-1:47 INFO hook.py:561] name:module.features.denseblock3.denselayer9.conv1.weight count_params:65536\u001b[0m\n",
      "\u001b[34m[2023-03-16 13:11:23.356 algo-1:47 INFO hook.py:561] name:module.features.denseblock3.denselayer9.norm2.weight count_params:128\u001b[0m\n",
      "\u001b[34m[2023-03-16 13:11:23.356 algo-1:47 INFO hook.py:561] name:module.features.denseblock3.denselayer9.norm2.bias count_params:128\u001b[0m\n",
      "\u001b[34m[2023-03-16 13:11:23.356 algo-1:47 INFO hook.py:561] name:module.features.denseblock3.denselayer9.conv2.weight count_params:36864\u001b[0m\n",
      "\u001b[34m[2023-03-16 13:11:23.356 algo-1:47 INFO hook.py:561] name:module.features.denseblock3.denselayer10.norm1.weight count_params:544\u001b[0m\n",
      "\u001b[34m[2023-03-16 13:11:23.357 algo-1:47 INFO hook.py:561] name:module.features.denseblock3.denselayer10.norm1.bias count_params:544\u001b[0m\n",
      "\u001b[34m[2023-03-16 13:11:23.357 algo-1:47 INFO hook.py:561] name:module.features.denseblock3.denselayer10.conv1.weight count_params:69632\u001b[0m\n",
      "\u001b[34m[2023-03-16 13:11:23.357 algo-1:47 INFO hook.py:561] name:module.features.denseblock3.denselayer10.norm2.weight count_params:128\u001b[0m\n",
      "\u001b[34m[2023-03-16 13:11:23.358 algo-1:47 INFO hook.py:561] name:module.features.denseblock3.denselayer10.norm2.bias count_params:128\u001b[0m\n",
      "\u001b[34m[2023-03-16 13:11:23.358 algo-1:47 INFO hook.py:561] name:module.features.denseblock3.denselayer10.conv2.weight count_params:36864\u001b[0m\n",
      "\u001b[34m[2023-03-16 13:11:23.358 algo-1:47 INFO hook.py:561] name:module.features.denseblock3.denselayer11.norm1.weight count_params:576\u001b[0m\n",
      "\u001b[34m[2023-03-16 13:11:23.358 algo-1:47 INFO hook.py:561] name:module.features.denseblock3.denselayer11.norm1.bias count_params:576\u001b[0m\n",
      "\u001b[34m[2023-03-16 13:11:23.359 algo-1:47 INFO hook.py:561] name:module.features.denseblock3.denselayer11.conv1.weight count_params:73728\u001b[0m\n",
      "\u001b[34m[2023-03-16 13:11:23.359 algo-1:47 INFO hook.py:561] name:module.features.denseblock3.denselayer11.norm2.weight count_params:128\u001b[0m\n",
      "\u001b[34m[2023-03-16 13:11:23.359 algo-1:47 INFO hook.py:561] name:module.features.denseblock3.denselayer11.norm2.bias count_params:128\u001b[0m\n",
      "\u001b[34m[2023-03-16 13:11:23.359 algo-1:47 INFO hook.py:561] name:module.features.denseblock3.denselayer11.conv2.weight count_params:36864\u001b[0m\n",
      "\u001b[34m[2023-03-16 13:11:23.360 algo-1:47 INFO hook.py:561] name:module.features.denseblock3.denselayer12.norm1.weight count_params:608\u001b[0m\n",
      "\u001b[34m[2023-03-16 13:11:23.360 algo-1:47 INFO hook.py:561] name:module.features.denseblock3.denselayer12.norm1.bias count_params:608\u001b[0m\n",
      "\u001b[34m[2023-03-16 13:11:23.360 algo-1:47 INFO hook.py:561] name:module.features.denseblock3.denselayer12.conv1.weight count_params:77824\u001b[0m\n",
      "\u001b[34m[2023-03-16 13:11:23.361 algo-1:47 INFO hook.py:561] name:module.features.denseblock3.denselayer12.norm2.weight count_params:128\u001b[0m\n",
      "\u001b[34m[2023-03-16 13:11:23.361 algo-1:47 INFO hook.py:561] name:module.features.denseblock3.denselayer12.norm2.bias count_params:128\u001b[0m\n",
      "\u001b[34m[2023-03-16 13:11:23.361 algo-1:47 INFO hook.py:561] name:module.features.denseblock3.denselayer12.conv2.weight count_params:36864\u001b[0m\n",
      "\u001b[34m[2023-03-16 13:11:23.361 algo-1:47 INFO hook.py:561] name:module.features.denseblock3.denselayer13.norm1.weight count_params:640\u001b[0m\n",
      "\u001b[34m[2023-03-16 13:11:23.362 algo-1:47 INFO hook.py:561] name:module.features.denseblock3.denselayer13.norm1.bias count_params:640\u001b[0m\n",
      "\u001b[34m[2023-03-16 13:11:23.362 algo-1:47 INFO hook.py:561] name:module.features.denseblock3.denselayer13.conv1.weight count_params:81920\u001b[0m\n",
      "\u001b[34m[2023-03-16 13:11:23.362 algo-1:47 INFO hook.py:561] name:module.features.denseblock3.denselayer13.norm2.weight count_params:128\u001b[0m\n",
      "\u001b[34m[2023-03-16 13:11:23.362 algo-1:47 INFO hook.py:561] name:module.features.denseblock3.denselayer13.norm2.bias count_params:128\u001b[0m\n",
      "\u001b[34m[2023-03-16 13:11:23.363 algo-1:47 INFO hook.py:561] name:module.features.denseblock3.denselayer13.conv2.weight count_params:36864\u001b[0m\n",
      "\u001b[34m[2023-03-16 13:11:23.363 algo-1:47 INFO hook.py:561] name:module.features.denseblock3.denselayer14.norm1.weight count_params:672\u001b[0m\n",
      "\u001b[34m[2023-03-16 13:11:23.363 algo-1:47 INFO hook.py:561] name:module.features.denseblock3.denselayer14.norm1.bias count_params:672\u001b[0m\n",
      "\u001b[34m[2023-03-16 13:11:23.364 algo-1:47 INFO hook.py:561] name:module.features.denseblock3.denselayer14.conv1.weight count_params:86016\u001b[0m\n",
      "\u001b[34m[2023-03-16 13:11:23.364 algo-1:47 INFO hook.py:561] name:module.features.denseblock3.denselayer14.norm2.weight count_params:128\u001b[0m\n",
      "\u001b[34m[2023-03-16 13:11:23.364 algo-1:47 INFO hook.py:561] name:module.features.denseblock3.denselayer14.norm2.bias count_params:128\u001b[0m\n",
      "\u001b[34m[2023-03-16 13:11:23.364 algo-1:47 INFO hook.py:561] name:module.features.denseblock3.denselayer14.conv2.weight count_params:36864\u001b[0m\n",
      "\u001b[34m[2023-03-16 13:11:23.365 algo-1:47 INFO hook.py:561] name:module.features.denseblock3.denselayer15.norm1.weight count_params:704\u001b[0m\n",
      "\u001b[34m[2023-03-16 13:11:23.365 algo-1:47 INFO hook.py:561] name:module.features.denseblock3.denselayer15.norm1.bias count_params:704\u001b[0m\n",
      "\u001b[34m[2023-03-16 13:11:23.365 algo-1:47 INFO hook.py:561] name:module.features.denseblock3.denselayer15.conv1.weight count_params:90112\u001b[0m\n",
      "\u001b[34m[2023-03-16 13:11:23.365 algo-1:47 INFO hook.py:561] name:module.features.denseblock3.denselayer15.norm2.weight count_params:128\u001b[0m\n",
      "\u001b[34m[2023-03-16 13:11:23.366 algo-1:47 INFO hook.py:561] name:module.features.denseblock3.denselayer15.norm2.bias count_params:128\u001b[0m\n",
      "\u001b[34m[2023-03-16 13:11:23.366 algo-1:47 INFO hook.py:561] name:module.features.denseblock3.denselayer15.conv2.weight count_params:36864\u001b[0m\n",
      "\u001b[34m[2023-03-16 13:11:23.366 algo-1:47 INFO hook.py:561] name:module.features.denseblock3.denselayer16.norm1.weight count_params:736\u001b[0m\n",
      "\u001b[34m[2023-03-16 13:11:23.367 algo-1:47 INFO hook.py:561] name:module.features.denseblock3.denselayer16.norm1.bias count_params:736\u001b[0m\n",
      "\u001b[34m[2023-03-16 13:11:23.367 algo-1:47 INFO hook.py:561] name:module.features.denseblock3.denselayer16.conv1.weight count_params:94208\u001b[0m\n",
      "\u001b[34m[2023-03-16 13:11:23.367 algo-1:47 INFO hook.py:561] name:module.features.denseblock3.denselayer16.norm2.weight count_params:128\u001b[0m\n",
      "\u001b[34m[2023-03-16 13:11:23.367 algo-1:47 INFO hook.py:561] name:module.features.denseblock3.denselayer16.norm2.bias count_params:128\u001b[0m\n",
      "\u001b[34m[2023-03-16 13:11:23.368 algo-1:47 INFO hook.py:561] name:module.features.denseblock3.denselayer16.conv2.weight count_params:36864\u001b[0m\n",
      "\u001b[34m[2023-03-16 13:11:23.368 algo-1:47 INFO hook.py:561] name:module.features.denseblock3.denselayer17.norm1.weight count_params:768\u001b[0m\n",
      "\u001b[34m[2023-03-16 13:11:23.368 algo-1:47 INFO hook.py:561] name:module.features.denseblock3.denselayer17.norm1.bias count_params:768\u001b[0m\n",
      "\u001b[34m[2023-03-16 13:11:23.368 algo-1:47 INFO hook.py:561] name:module.features.denseblock3.denselayer17.conv1.weight count_params:98304\u001b[0m\n",
      "\u001b[34m[2023-03-16 13:11:23.369 algo-1:47 INFO hook.py:561] name:module.features.denseblock3.denselayer17.norm2.weight count_params:128\u001b[0m\n",
      "\u001b[34m[2023-03-16 13:11:23.369 algo-1:47 INFO hook.py:561] name:module.features.denseblock3.denselayer17.norm2.bias count_params:128\u001b[0m\n",
      "\u001b[34m[2023-03-16 13:11:23.369 algo-1:47 INFO hook.py:561] name:module.features.denseblock3.denselayer17.conv2.weight count_params:36864\u001b[0m\n",
      "\u001b[34m[2023-03-16 13:11:23.370 algo-1:47 INFO hook.py:561] name:module.features.denseblock3.denselayer18.norm1.weight count_params:800\u001b[0m\n",
      "\u001b[34m[2023-03-16 13:11:23.370 algo-1:47 INFO hook.py:561] name:module.features.denseblock3.denselayer18.norm1.bias count_params:800\u001b[0m\n",
      "\u001b[34m[2023-03-16 13:11:23.370 algo-1:47 INFO hook.py:561] name:module.features.denseblock3.denselayer18.conv1.weight count_params:102400\u001b[0m\n",
      "\u001b[34m[2023-03-16 13:11:23.370 algo-1:47 INFO hook.py:561] name:module.features.denseblock3.denselayer18.norm2.weight count_params:128\u001b[0m\n",
      "\u001b[34m[2023-03-16 13:11:23.371 algo-1:47 INFO hook.py:561] name:module.features.denseblock3.denselayer18.norm2.bias count_params:128\u001b[0m\n",
      "\u001b[34m[2023-03-16 13:11:23.371 algo-1:47 INFO hook.py:561] name:module.features.denseblock3.denselayer18.conv2.weight count_params:36864\u001b[0m\n",
      "\u001b[34m[2023-03-16 13:11:23.371 algo-1:47 INFO hook.py:561] name:module.features.denseblock3.denselayer19.norm1.weight count_params:832\u001b[0m\n",
      "\u001b[34m[2023-03-16 13:11:23.371 algo-1:47 INFO hook.py:561] name:module.features.denseblock3.denselayer19.norm1.bias count_params:832\u001b[0m\n",
      "\u001b[34m[2023-03-16 13:11:23.372 algo-1:47 INFO hook.py:561] name:module.features.denseblock3.denselayer19.conv1.weight count_params:106496\u001b[0m\n",
      "\u001b[34m[2023-03-16 13:11:23.372 algo-1:47 INFO hook.py:561] name:module.features.denseblock3.denselayer19.norm2.weight count_params:128\u001b[0m\n",
      "\u001b[34m[2023-03-16 13:11:23.372 algo-1:47 INFO hook.py:561] name:module.features.denseblock3.denselayer19.norm2.bias count_params:128\u001b[0m\n",
      "\u001b[34m[2023-03-16 13:11:23.372 algo-1:47 INFO hook.py:561] name:module.features.denseblock3.denselayer19.conv2.weight count_params:36864\u001b[0m\n",
      "\u001b[34m[2023-03-16 13:11:23.373 algo-1:47 INFO hook.py:561] name:module.features.denseblock3.denselayer20.norm1.weight count_params:864\u001b[0m\n",
      "\u001b[34m[2023-03-16 13:11:23.373 algo-1:47 INFO hook.py:561] name:module.features.denseblock3.denselayer20.norm1.bias count_params:864\u001b[0m\n",
      "\u001b[34m[2023-03-16 13:11:23.373 algo-1:47 INFO hook.py:561] name:module.features.denseblock3.denselayer20.conv1.weight count_params:110592\u001b[0m\n",
      "\u001b[34m[2023-03-16 13:11:23.374 algo-1:47 INFO hook.py:561] name:module.features.denseblock3.denselayer20.norm2.weight count_params:128\u001b[0m\n",
      "\u001b[34m[2023-03-16 13:11:23.374 algo-1:47 INFO hook.py:561] name:module.features.denseblock3.denselayer20.norm2.bias count_params:128\u001b[0m\n",
      "\u001b[34m[2023-03-16 13:11:23.374 algo-1:47 INFO hook.py:561] name:module.features.denseblock3.denselayer20.conv2.weight count_params:36864\u001b[0m\n",
      "\u001b[34m[2023-03-16 13:11:23.374 algo-1:47 INFO hook.py:561] name:module.features.denseblock3.denselayer21.norm1.weight count_params:896\u001b[0m\n",
      "\u001b[34m[2023-03-16 13:11:23.375 algo-1:47 INFO hook.py:561] name:module.features.denseblock3.denselayer21.norm1.bias count_params:896\u001b[0m\n",
      "\u001b[34m[2023-03-16 13:11:23.375 algo-1:47 INFO hook.py:561] name:module.features.denseblock3.denselayer21.conv1.weight count_params:114688\u001b[0m\n",
      "\u001b[34m[2023-03-16 13:11:23.375 algo-1:47 INFO hook.py:561] name:module.features.denseblock3.denselayer21.norm2.weight count_params:128\u001b[0m\n",
      "\u001b[34m[2023-03-16 13:11:23.375 algo-1:47 INFO hook.py:561] name:module.features.denseblock3.denselayer21.norm2.bias count_params:128\u001b[0m\n",
      "\u001b[34m[2023-03-16 13:11:23.376 algo-1:47 INFO hook.py:561] name:module.features.denseblock3.denselayer21.conv2.weight count_params:36864\u001b[0m\n",
      "\u001b[34m[2023-03-16 13:11:23.376 algo-1:47 INFO hook.py:561] name:module.features.denseblock3.denselayer22.norm1.weight count_params:928\u001b[0m\n",
      "\u001b[34m[2023-03-16 13:11:23.376 algo-1:47 INFO hook.py:561] name:module.features.denseblock3.denselayer22.norm1.bias count_params:928\u001b[0m\n",
      "\u001b[34m[2023-03-16 13:11:23.377 algo-1:47 INFO hook.py:561] name:module.features.denseblock3.denselayer22.conv1.weight count_params:118784\u001b[0m\n",
      "\u001b[34m[2023-03-16 13:11:23.377 algo-1:47 INFO hook.py:561] name:module.features.denseblock3.denselayer22.norm2.weight count_params:128\u001b[0m\n",
      "\u001b[34m[2023-03-16 13:11:23.377 algo-1:47 INFO hook.py:561] name:module.features.denseblock3.denselayer22.norm2.bias count_params:128\u001b[0m\n",
      "\u001b[34m[2023-03-16 13:11:23.377 algo-1:47 INFO hook.py:561] name:module.features.denseblock3.denselayer22.conv2.weight count_params:36864\u001b[0m\n",
      "\u001b[34m[2023-03-16 13:11:23.378 algo-1:47 INFO hook.py:561] name:module.features.denseblock3.denselayer23.norm1.weight count_params:960\u001b[0m\n",
      "\u001b[34m[2023-03-16 13:11:23.378 algo-1:47 INFO hook.py:561] name:module.features.denseblock3.denselayer23.norm1.bias count_params:960\u001b[0m\n",
      "\u001b[34m[2023-03-16 13:11:23.378 algo-1:47 INFO hook.py:561] name:module.features.denseblock3.denselayer23.conv1.weight count_params:122880\u001b[0m\n",
      "\u001b[34m[2023-03-16 13:11:23.379 algo-1:47 INFO hook.py:561] name:module.features.denseblock3.denselayer23.norm2.weight count_params:128\u001b[0m\n",
      "\u001b[34m[2023-03-16 13:11:23.379 algo-1:47 INFO hook.py:561] name:module.features.denseblock3.denselayer23.norm2.bias count_params:128\u001b[0m\n",
      "\u001b[34m[2023-03-16 13:11:23.379 algo-1:47 INFO hook.py:561] name:module.features.denseblock3.denselayer23.conv2.weight count_params:36864\u001b[0m\n",
      "\u001b[34m[2023-03-16 13:11:23.379 algo-1:47 INFO hook.py:561] name:module.features.denseblock3.denselayer24.norm1.weight count_params:992\u001b[0m\n",
      "\u001b[34m[2023-03-16 13:11:23.380 algo-1:47 INFO hook.py:561] name:module.features.denseblock3.denselayer24.norm1.bias count_params:992\u001b[0m\n",
      "\u001b[34m[2023-03-16 13:11:23.380 algo-1:47 INFO hook.py:561] name:module.features.denseblock3.denselayer24.conv1.weight count_params:126976\u001b[0m\n",
      "\u001b[34m[2023-03-16 13:11:23.380 algo-1:47 INFO hook.py:561] name:module.features.denseblock3.denselayer24.norm2.weight count_params:128\u001b[0m\n",
      "\u001b[34m[2023-03-16 13:11:23.380 algo-1:47 INFO hook.py:561] name:module.features.denseblock3.denselayer24.norm2.bias count_params:128\u001b[0m\n",
      "\u001b[34m[2023-03-16 13:11:23.381 algo-1:47 INFO hook.py:561] name:module.features.denseblock3.denselayer24.conv2.weight count_params:36864\u001b[0m\n",
      "\u001b[34m[2023-03-16 13:11:23.381 algo-1:47 INFO hook.py:561] name:module.features.transition3.norm.weight count_params:1024\u001b[0m\n",
      "\u001b[34m[2023-03-16 13:11:23.381 algo-1:47 INFO hook.py:561] name:module.features.transition3.norm.bias count_params:1024\u001b[0m\n",
      "\u001b[34m[2023-03-16 13:11:23.382 algo-1:47 INFO hook.py:561] name:module.features.transition3.conv.weight count_params:524288\u001b[0m\n",
      "\u001b[34m[2023-03-16 13:11:23.382 algo-1:47 INFO hook.py:561] name:module.features.denseblock4.denselayer1.norm1.weight count_params:512\u001b[0m\n",
      "\u001b[34m[2023-03-16 13:11:23.382 algo-1:47 INFO hook.py:561] name:module.features.denseblock4.denselayer1.norm1.bias count_params:512\u001b[0m\n",
      "\u001b[34m[2023-03-16 13:11:23.382 algo-1:47 INFO hook.py:561] name:module.features.denseblock4.denselayer1.conv1.weight count_params:65536\u001b[0m\n",
      "\u001b[34m[2023-03-16 13:11:23.383 algo-1:47 INFO hook.py:561] name:module.features.denseblock4.denselayer1.norm2.weight count_params:128\u001b[0m\n",
      "\u001b[34m[2023-03-16 13:11:23.383 algo-1:47 INFO hook.py:561] name:module.features.denseblock4.denselayer1.norm2.bias count_params:128\u001b[0m\n",
      "\u001b[34m[2023-03-16 13:11:23.383 algo-1:47 INFO hook.py:561] name:module.features.denseblock4.denselayer1.conv2.weight count_params:36864\u001b[0m\n",
      "\u001b[34m[2023-03-16 13:11:23.383 algo-1:47 INFO hook.py:561] name:module.features.denseblock4.denselayer2.norm1.weight count_params:544\u001b[0m\n",
      "\u001b[34m[2023-03-16 13:11:23.384 algo-1:47 INFO hook.py:561] name:module.features.denseblock4.denselayer2.norm1.bias count_params:544\u001b[0m\n",
      "\u001b[34m[2023-03-16 13:11:23.384 algo-1:47 INFO hook.py:561] name:module.features.denseblock4.denselayer2.conv1.weight count_params:69632\u001b[0m\n",
      "\u001b[34m[2023-03-16 13:11:23.384 algo-1:47 INFO hook.py:561] name:module.features.denseblock4.denselayer2.norm2.weight count_params:128\u001b[0m\n",
      "\u001b[34m[2023-03-16 13:11:23.384 algo-1:47 INFO hook.py:561] name:module.features.denseblock4.denselayer2.norm2.bias count_params:128\u001b[0m\n",
      "\u001b[34m[2023-03-16 13:11:23.385 algo-1:47 INFO hook.py:561] name:module.features.denseblock4.denselayer2.conv2.weight count_params:36864\u001b[0m\n",
      "\u001b[34m[2023-03-16 13:11:23.385 algo-1:47 INFO hook.py:561] name:module.features.denseblock4.denselayer3.norm1.weight count_params:576\u001b[0m\n",
      "\u001b[34m[2023-03-16 13:11:23.385 algo-1:47 INFO hook.py:561] name:module.features.denseblock4.denselayer3.norm1.bias count_params:576\u001b[0m\n",
      "\u001b[34m[2023-03-16 13:11:23.386 algo-1:47 INFO hook.py:561] name:module.features.denseblock4.denselayer3.conv1.weight count_params:73728\u001b[0m\n",
      "\u001b[34m[2023-03-16 13:11:23.386 algo-1:47 INFO hook.py:561] name:module.features.denseblock4.denselayer3.norm2.weight count_params:128\u001b[0m\n",
      "\u001b[34m[2023-03-16 13:11:23.386 algo-1:47 INFO hook.py:561] name:module.features.denseblock4.denselayer3.norm2.bias count_params:128\u001b[0m\n",
      "\u001b[34m[2023-03-16 13:11:23.386 algo-1:47 INFO hook.py:561] name:module.features.denseblock4.denselayer3.conv2.weight count_params:36864\u001b[0m\n",
      "\u001b[34m[2023-03-16 13:11:23.387 algo-1:47 INFO hook.py:561] name:module.features.denseblock4.denselayer4.norm1.weight count_params:608\u001b[0m\n",
      "\u001b[34m[2023-03-16 13:11:23.387 algo-1:47 INFO hook.py:561] name:module.features.denseblock4.denselayer4.norm1.bias count_params:608\u001b[0m\n",
      "\u001b[34m[2023-03-16 13:11:23.387 algo-1:47 INFO hook.py:561] name:module.features.denseblock4.denselayer4.conv1.weight count_params:77824\u001b[0m\n",
      "\u001b[34m[2023-03-16 13:11:23.387 algo-1:47 INFO hook.py:561] name:module.features.denseblock4.denselayer4.norm2.weight count_params:128\u001b[0m\n",
      "\u001b[34m[2023-03-16 13:11:23.388 algo-1:47 INFO hook.py:561] name:module.features.denseblock4.denselayer4.norm2.bias count_params:128\u001b[0m\n",
      "\u001b[34m[2023-03-16 13:11:23.388 algo-1:47 INFO hook.py:561] name:module.features.denseblock4.denselayer4.conv2.weight count_params:36864\u001b[0m\n",
      "\u001b[34m[2023-03-16 13:11:23.388 algo-1:47 INFO hook.py:561] name:module.features.denseblock4.denselayer5.norm1.weight count_params:640\u001b[0m\n",
      "\u001b[34m[2023-03-16 13:11:23.388 algo-1:47 INFO hook.py:561] name:module.features.denseblock4.denselayer5.norm1.bias count_params:640\u001b[0m\n",
      "\u001b[34m[2023-03-16 13:11:23.389 algo-1:47 INFO hook.py:561] name:module.features.denseblock4.denselayer5.conv1.weight count_params:81920\u001b[0m\n",
      "\u001b[34m[2023-03-16 13:11:23.389 algo-1:47 INFO hook.py:561] name:module.features.denseblock4.denselayer5.norm2.weight count_params:128\u001b[0m\n",
      "\u001b[34m[2023-03-16 13:11:23.389 algo-1:47 INFO hook.py:561] name:module.features.denseblock4.denselayer5.norm2.bias count_params:128\u001b[0m\n",
      "\u001b[34m[2023-03-16 13:11:23.390 algo-1:47 INFO hook.py:561] name:module.features.denseblock4.denselayer5.conv2.weight count_params:36864\u001b[0m\n",
      "\u001b[34m[2023-03-16 13:11:23.390 algo-1:47 INFO hook.py:561] name:module.features.denseblock4.denselayer6.norm1.weight count_params:672\u001b[0m\n",
      "\u001b[34m[2023-03-16 13:11:23.390 algo-1:47 INFO hook.py:561] name:module.features.denseblock4.denselayer6.norm1.bias count_params:672\u001b[0m\n",
      "\u001b[34m[2023-03-16 13:11:23.390 algo-1:47 INFO hook.py:561] name:module.features.denseblock4.denselayer6.conv1.weight count_params:86016\u001b[0m\n",
      "\u001b[34m[2023-03-16 13:11:23.391 algo-1:47 INFO hook.py:561] name:module.features.denseblock4.denselayer6.norm2.weight count_params:128\u001b[0m\n",
      "\u001b[34m[2023-03-16 13:11:23.391 algo-1:47 INFO hook.py:561] name:module.features.denseblock4.denselayer6.norm2.bias count_params:128\u001b[0m\n",
      "\u001b[34m[2023-03-16 13:11:23.391 algo-1:47 INFO hook.py:561] name:module.features.denseblock4.denselayer6.conv2.weight count_params:36864\u001b[0m\n",
      "\u001b[34m[2023-03-16 13:11:23.391 algo-1:47 INFO hook.py:561] name:module.features.denseblock4.denselayer7.norm1.weight count_params:704\u001b[0m\n",
      "\u001b[34m[2023-03-16 13:11:23.392 algo-1:47 INFO hook.py:561] name:module.features.denseblock4.denselayer7.norm1.bias count_params:704\u001b[0m\n",
      "\u001b[34m[2023-03-16 13:11:23.392 algo-1:47 INFO hook.py:561] name:module.features.denseblock4.denselayer7.conv1.weight count_params:90112\u001b[0m\n",
      "\u001b[34m[2023-03-16 13:11:23.392 algo-1:47 INFO hook.py:561] name:module.features.denseblock4.denselayer7.norm2.weight count_params:128\u001b[0m\n",
      "\u001b[34m[2023-03-16 13:11:23.392 algo-1:47 INFO hook.py:561] name:module.features.denseblock4.denselayer7.norm2.bias count_params:128\u001b[0m\n",
      "\u001b[34m[2023-03-16 13:11:23.393 algo-1:47 INFO hook.py:561] name:module.features.denseblock4.denselayer7.conv2.weight count_params:36864\u001b[0m\n",
      "\u001b[34m[2023-03-16 13:11:23.393 algo-1:47 INFO hook.py:561] name:module.features.denseblock4.denselayer8.norm1.weight count_params:736\u001b[0m\n",
      "\u001b[34m[2023-03-16 13:11:23.393 algo-1:47 INFO hook.py:561] name:module.features.denseblock4.denselayer8.norm1.bias count_params:736\u001b[0m\n",
      "\u001b[34m[2023-03-16 13:11:23.393 algo-1:47 INFO hook.py:561] name:module.features.denseblock4.denselayer8.conv1.weight count_params:94208\u001b[0m\n",
      "\u001b[34m[2023-03-16 13:11:23.394 algo-1:47 INFO hook.py:561] name:module.features.denseblock4.denselayer8.norm2.weight count_params:128\u001b[0m\n",
      "\u001b[34m[2023-03-16 13:11:23.394 algo-1:47 INFO hook.py:561] name:module.features.denseblock4.denselayer8.norm2.bias count_params:128\u001b[0m\n",
      "\u001b[34m[2023-03-16 13:11:23.394 algo-1:47 INFO hook.py:561] name:module.features.denseblock4.denselayer8.conv2.weight count_params:36864\u001b[0m\n",
      "\u001b[34m[2023-03-16 13:11:23.395 algo-1:47 INFO hook.py:561] name:module.features.denseblock4.denselayer9.norm1.weight count_params:768\u001b[0m\n",
      "\u001b[34m[2023-03-16 13:11:23.395 algo-1:47 INFO hook.py:561] name:module.features.denseblock4.denselayer9.norm1.bias count_params:768\u001b[0m\n",
      "\u001b[34m[2023-03-16 13:11:23.395 algo-1:47 INFO hook.py:561] name:module.features.denseblock4.denselayer9.conv1.weight count_params:98304\u001b[0m\n",
      "\u001b[34m[2023-03-16 13:11:23.395 algo-1:47 INFO hook.py:561] name:module.features.denseblock4.denselayer9.norm2.weight count_params:128\u001b[0m\n",
      "\u001b[34m[2023-03-16 13:11:23.396 algo-1:47 INFO hook.py:561] name:module.features.denseblock4.denselayer9.norm2.bias count_params:128\u001b[0m\n",
      "\u001b[34m[2023-03-16 13:11:23.396 algo-1:47 INFO hook.py:561] name:module.features.denseblock4.denselayer9.conv2.weight count_params:36864\u001b[0m\n",
      "\u001b[34m[2023-03-16 13:11:23.396 algo-1:47 INFO hook.py:561] name:module.features.denseblock4.denselayer10.norm1.weight count_params:800\u001b[0m\n",
      "\u001b[34m[2023-03-16 13:11:23.396 algo-1:47 INFO hook.py:561] name:module.features.denseblock4.denselayer10.norm1.bias count_params:800\u001b[0m\n",
      "\u001b[34m[2023-03-16 13:11:23.397 algo-1:47 INFO hook.py:561] name:module.features.denseblock4.denselayer10.conv1.weight count_params:102400\u001b[0m\n",
      "\u001b[34m[2023-03-16 13:11:23.397 algo-1:47 INFO hook.py:561] name:module.features.denseblock4.denselayer10.norm2.weight count_params:128\u001b[0m\n",
      "\u001b[34m[2023-03-16 13:11:23.397 algo-1:47 INFO hook.py:561] name:module.features.denseblock4.denselayer10.norm2.bias count_params:128\u001b[0m\n",
      "\u001b[34m[2023-03-16 13:11:23.397 algo-1:47 INFO hook.py:561] name:module.features.denseblock4.denselayer10.conv2.weight count_params:36864\u001b[0m\n",
      "\u001b[34m[2023-03-16 13:11:23.398 algo-1:47 INFO hook.py:561] name:module.features.denseblock4.denselayer11.norm1.weight count_params:832\u001b[0m\n",
      "\u001b[34m[2023-03-16 13:11:23.398 algo-1:47 INFO hook.py:561] name:module.features.denseblock4.denselayer11.norm1.bias count_params:832\u001b[0m\n",
      "\u001b[34m[2023-03-16 13:11:23.398 algo-1:47 INFO hook.py:561] name:module.features.denseblock4.denselayer11.conv1.weight count_params:106496\u001b[0m\n",
      "\u001b[34m[2023-03-16 13:11:23.399 algo-1:47 INFO hook.py:561] name:module.features.denseblock4.denselayer11.norm2.weight count_params:128\u001b[0m\n",
      "\u001b[34m[2023-03-16 13:11:23.399 algo-1:47 INFO hook.py:561] name:module.features.denseblock4.denselayer11.norm2.bias count_params:128\u001b[0m\n",
      "\u001b[34m[2023-03-16 13:11:23.399 algo-1:47 INFO hook.py:561] name:module.features.denseblock4.denselayer11.conv2.weight count_params:36864\u001b[0m\n",
      "\u001b[34m[2023-03-16 13:11:23.399 algo-1:47 INFO hook.py:561] name:module.features.denseblock4.denselayer12.norm1.weight count_params:864\u001b[0m\n",
      "\u001b[34m[2023-03-16 13:11:23.400 algo-1:47 INFO hook.py:561] name:module.features.denseblock4.denselayer12.norm1.bias count_params:864\u001b[0m\n",
      "\u001b[34m[2023-03-16 13:11:23.400 algo-1:47 INFO hook.py:561] name:module.features.denseblock4.denselayer12.conv1.weight count_params:110592\u001b[0m\n",
      "\u001b[34m[2023-03-16 13:11:23.400 algo-1:47 INFO hook.py:561] name:module.features.denseblock4.denselayer12.norm2.weight count_params:128\u001b[0m\n",
      "\u001b[34m[2023-03-16 13:11:23.400 algo-1:47 INFO hook.py:561] name:module.features.denseblock4.denselayer12.norm2.bias count_params:128\u001b[0m\n",
      "\u001b[34m[2023-03-16 13:11:23.401 algo-1:47 INFO hook.py:561] name:module.features.denseblock4.denselayer12.conv2.weight count_params:36864\u001b[0m\n",
      "\u001b[34m[2023-03-16 13:11:23.401 algo-1:47 INFO hook.py:561] name:module.features.denseblock4.denselayer13.norm1.weight count_params:896\u001b[0m\n",
      "\u001b[34m[2023-03-16 13:11:23.401 algo-1:47 INFO hook.py:561] name:module.features.denseblock4.denselayer13.norm1.bias count_params:896\u001b[0m\n",
      "\u001b[34m[2023-03-16 13:11:23.401 algo-1:47 INFO hook.py:561] name:module.features.denseblock4.denselayer13.conv1.weight count_params:114688\u001b[0m\n",
      "\u001b[34m[2023-03-16 13:11:23.402 algo-1:47 INFO hook.py:561] name:module.features.denseblock4.denselayer13.norm2.weight count_params:128\u001b[0m\n",
      "\u001b[34m[2023-03-16 13:11:23.402 algo-1:47 INFO hook.py:561] name:module.features.denseblock4.denselayer13.norm2.bias count_params:128\u001b[0m\n",
      "\u001b[34m[2023-03-16 13:11:23.402 algo-1:47 INFO hook.py:561] name:module.features.denseblock4.denselayer13.conv2.weight count_params:36864\u001b[0m\n",
      "\u001b[34m[2023-03-16 13:11:23.403 algo-1:47 INFO hook.py:561] name:module.features.denseblock4.denselayer14.norm1.weight count_params:928\u001b[0m\n",
      "\u001b[34m[2023-03-16 13:11:23.403 algo-1:47 INFO hook.py:561] name:module.features.denseblock4.denselayer14.norm1.bias count_params:928\u001b[0m\n",
      "\u001b[34m[2023-03-16 13:11:23.403 algo-1:47 INFO hook.py:561] name:module.features.denseblock4.denselayer14.conv1.weight count_params:118784\u001b[0m\n",
      "\u001b[34m[2023-03-16 13:11:23.403 algo-1:47 INFO hook.py:561] name:module.features.denseblock4.denselayer14.norm2.weight count_params:128\u001b[0m\n",
      "\u001b[34m[2023-03-16 13:11:23.403 algo-1:47 INFO hook.py:561] name:module.features.denseblock4.denselayer14.norm2.bias count_params:128\u001b[0m\n",
      "\u001b[34m[2023-03-16 13:11:23.404 algo-1:47 INFO hook.py:561] name:module.features.denseblock4.denselayer14.conv2.weight count_params:36864\u001b[0m\n",
      "\u001b[34m[2023-03-16 13:11:23.404 algo-1:47 INFO hook.py:561] name:module.features.denseblock4.denselayer15.norm1.weight count_params:960\u001b[0m\n",
      "\u001b[34m[2023-03-16 13:11:23.404 algo-1:47 INFO hook.py:561] name:module.features.denseblock4.denselayer15.norm1.bias count_params:960\u001b[0m\n",
      "\u001b[34m[2023-03-16 13:11:23.404 algo-1:47 INFO hook.py:561] name:module.features.denseblock4.denselayer15.conv1.weight count_params:122880\u001b[0m\n",
      "\u001b[34m[2023-03-16 13:11:23.405 algo-1:47 INFO hook.py:561] name:module.features.denseblock4.denselayer15.norm2.weight count_params:128\u001b[0m\n",
      "\u001b[34m[2023-03-16 13:11:23.405 algo-1:47 INFO hook.py:561] name:module.features.denseblock4.denselayer15.norm2.bias count_params:128\u001b[0m\n",
      "\u001b[34m[2023-03-16 13:11:23.405 algo-1:47 INFO hook.py:561] name:module.features.denseblock4.denselayer15.conv2.weight count_params:36864\u001b[0m\n",
      "\u001b[34m[2023-03-16 13:11:23.406 algo-1:47 INFO hook.py:561] name:module.features.denseblock4.denselayer16.norm1.weight count_params:992\u001b[0m\n",
      "\u001b[34m[2023-03-16 13:11:23.406 algo-1:47 INFO hook.py:561] name:module.features.denseblock4.denselayer16.norm1.bias count_params:992\u001b[0m\n",
      "\u001b[34m[2023-03-16 13:11:23.406 algo-1:47 INFO hook.py:561] name:module.features.denseblock4.denselayer16.conv1.weight count_params:126976\u001b[0m\n",
      "\u001b[34m[2023-03-16 13:11:23.406 algo-1:47 INFO hook.py:561] name:module.features.denseblock4.denselayer16.norm2.weight count_params:128\u001b[0m\n",
      "\u001b[34m[2023-03-16 13:11:23.407 algo-1:47 INFO hook.py:561] name:module.features.denseblock4.denselayer16.norm2.bias count_params:128\u001b[0m\n",
      "\u001b[34m[2023-03-16 13:11:23.407 algo-1:47 INFO hook.py:561] name:module.features.denseblock4.denselayer16.conv2.weight count_params:36864\u001b[0m\n",
      "\u001b[34m[2023-03-16 13:11:23.407 algo-1:47 INFO hook.py:561] name:module.features.norm5.weight count_params:1024\u001b[0m\n",
      "\u001b[34m[2023-03-16 13:11:23.407 algo-1:47 INFO hook.py:561] name:module.features.norm5.bias count_params:1024\u001b[0m\n",
      "\u001b[34m[2023-03-16 13:11:23.408 algo-1:47 INFO hook.py:561] name:module.classifier.0.weight count_params:524288\u001b[0m\n",
      "\u001b[34m[2023-03-16 13:11:23.408 algo-1:47 INFO hook.py:561] name:module.classifier.0.bias count_params:512\u001b[0m\n",
      "\u001b[34m[2023-03-16 13:11:23.408 algo-1:47 INFO hook.py:561] name:module.classifier.3.weight count_params:68096\u001b[0m\n",
      "\u001b[34m[2023-03-16 13:11:23.408 algo-1:47 INFO hook.py:561] name:module.classifier.3.bias count_params:133\u001b[0m\n",
      "\u001b[34m[2023-03-16 13:11:23.408 algo-1:47 INFO hook.py:563] Total Trainable Params: 7546885\u001b[0m\n",
      "\u001b[34mEpoch 0/0\u001b[0m\n",
      "\u001b[34m----------\u001b[0m\n",
      "\u001b[34m[2023-03-16 13:11:23.851 algo-1:47 INFO hook.py:427] Monitoring the collections: losses, relu_input, gradients\u001b[0m\n",
      "\u001b[34m[2023-03-16 13:11:23.853 algo-1:47 INFO python_profiler.py:188] Dumping cProfile stats to /opt/ml/output/profiler/framework/pytorch/cprofile/47-algo-1/prestepzero-*-start-1678972280773836.5_train-0-stepstart-1678972283852888.0/python_stats.\u001b[0m\n",
      "\u001b[34m[2023-03-16 13:11:23.864 algo-1:47 WARNING hook.py:393] The detailed profiling using autograd profiler is not supported for torch version 1.12.1+cpu\u001b[0m\n",
      "\u001b[34m[2023-03-16 13:11:23.869 algo-1:47 INFO hook.py:491] Hook is writing from the hook with pid: 47\u001b[0m\n",
      "\u001b[34m[2023-03-16 13:11:29.313 algo-1:47 INFO python_profiler.py:188] Dumping cProfile stats to /opt/ml/output/profiler/framework/pytorch/cprofile/47-algo-1/train-0-stepstart-1678972283863372.5_train-0-forwardpassend-1678972289313253.5/python_stats.\u001b[0m\n",
      "\u001b[34m[2023-03-16 13:11:36.514 algo-1:47 INFO python_profiler.py:188] Dumping cProfile stats to /opt/ml/output/profiler/framework/pytorch/cprofile/47-algo-1/train-0-forwardpassend-1678972289316526.2_train-1-stepstart-1678972296513775.2/python_stats.\u001b[0m\n",
      "\u001b[34m[2023-03-16 13:11:36.518 algo-1:47 WARNING hook.py:393] The detailed profiling using autograd profiler is not supported for torch version 1.12.1+cpu\u001b[0m\n",
      "\u001b[34m[2023-03-16 13:11:41.117 algo-1:47 INFO python_profiler.py:188] Dumping cProfile stats to /opt/ml/output/profiler/framework/pytorch/cprofile/47-algo-1/train-1-stepstart-1678972296518220.8_train-1-forwardpassend-1678972301117464.0/python_stats.\u001b[0m\n",
      "\u001b[34m[2023-03-16 13:11:47.184 algo-1:47 INFO python_profiler.py:188] Dumping cProfile stats to /opt/ml/output/profiler/framework/pytorch/cprofile/47-algo-1/train-1-forwardpassend-1678972301119873.0_train-2-stepstart-1678972307184321.8/python_stats.\u001b[0m\n",
      "\u001b[34m[2023-03-16 13:11:47.188 algo-1:47 WARNING hook.py:393] The detailed profiling using autograd profiler is not supported for torch version 1.12.1+cpu\u001b[0m\n",
      "\u001b[34m[2023-03-16 13:11:50.876 algo-1:47 INFO python_profiler.py:188] Dumping cProfile stats to /opt/ml/output/profiler/framework/pytorch/cprofile/47-algo-1/train-2-stepstart-1678972307187896.8_train-2-forwardpassend-1678972310875628.5/python_stats.\u001b[0m\n",
      "\u001b[34m[2023-03-16 13:11:55.071 algo-1:47 INFO python_profiler.py:188] Dumping cProfile stats to /opt/ml/output/profiler/framework/pytorch/cprofile/47-algo-1/train-2-forwardpassend-1678972310877341.8_train-3-stepstart-1678972315071555.5/python_stats.\u001b[0m\n",
      "\u001b[34m[2023-03-16 13:11:58.494 algo-1:47 INFO python_profiler.py:188] Dumping cProfile stats to /opt/ml/output/profiler/framework/pytorch/cprofile/47-algo-1/train-3-stepstart-1678972315074775.8_train-3-forwardpassend-1678972318493998.5/python_stats.\u001b[0m\n",
      "\u001b[34m[2023-03-16 13:12:03.822 algo-1:47 INFO python_profiler.py:188] Dumping cProfile stats to /opt/ml/output/profiler/framework/pytorch/cprofile/47-algo-1/train-3-forwardpassend-1678972318495544.8_train-4-stepstart-1678972323822276.8/python_stats.\u001b[0m\n",
      "\u001b[34m[2023-03-16 13:12:07.398 algo-1:47 INFO python_profiler.py:188] Dumping cProfile stats to /opt/ml/output/profiler/framework/pytorch/cprofile/47-algo-1/train-4-stepstart-1678972323825591.5_train-4-forwardpassend-1678972327397595.8/python_stats.\u001b[0m\n",
      "\u001b[34m[2023-03-16 13:12:11.732 algo-1:47 INFO python_profiler.py:188] Dumping cProfile stats to /opt/ml/output/profiler/framework/pytorch/cprofile/47-algo-1/train-4-forwardpassend-1678972327399228.0_train-5-stepstart-1678972331732481.5/python_stats.\u001b[0m\n",
      "\u001b[34m[2023-03-16 13:12:14.992 algo-1:47 INFO python_profiler.py:188] Dumping cProfile stats to /opt/ml/output/profiler/framework/pytorch/cprofile/47-algo-1/train-5-stepstart-1678972331735487.2_train-5-forwardpassend-1678972334991960.2/python_stats.\u001b[0m\n",
      "\u001b[34m[2023-03-16 13:12:19.938 algo-1:47 INFO python_profiler.py:188] Dumping cProfile stats to /opt/ml/output/profiler/framework/pytorch/cprofile/47-algo-1/train-5-forwardpassend-1678972334993591.5_train-6-stepstart-1678972339938102.0/python_stats.\u001b[0m\n",
      "\u001b[34m[2023-03-16 13:12:23.081 algo-1:47 INFO python_profiler.py:188] Dumping cProfile stats to /opt/ml/output/profiler/framework/pytorch/cprofile/47-algo-1/train-6-stepstart-1678972339941370.2_train-6-forwardpassend-1678972343081308.0/python_stats.\u001b[0m\n",
      "\u001b[34m[2023-03-16 13:12:27.641 algo-1:47 INFO python_profiler.py:188] Dumping cProfile stats to /opt/ml/output/profiler/framework/pytorch/cprofile/47-algo-1/train-6-forwardpassend-1678972343083033.0_train-7-stepstart-1678972347640625.5/python_stats.\u001b[0m\n",
      "\u001b[34m[2023-03-16 13:12:30.637 algo-1:47 INFO python_profiler.py:188] Dumping cProfile stats to /opt/ml/output/profiler/framework/pytorch/cprofile/47-algo-1/train-7-stepstart-1678972347643770.2_train-7-forwardpassend-1678972350636644.0/python_stats.\u001b[0m\n",
      "\u001b[34m[2023-03-16 13:12:35.703 algo-1:47 INFO python_profiler.py:188] Dumping cProfile stats to /opt/ml/output/profiler/framework/pytorch/cprofile/47-algo-1/train-7-forwardpassend-1678972350638291.2_train-8-stepstart-1678972355702862.0/python_stats.\u001b[0m\n",
      "\u001b[34m[2023-03-16 13:12:38.612 algo-1:47 INFO python_profiler.py:188] Dumping cProfile stats to /opt/ml/output/profiler/framework/pytorch/cprofile/47-algo-1/train-8-stepstart-1678972355706420.5_train-8-forwardpassend-1678972358611670.0/python_stats.\u001b[0m\n",
      "\u001b[34m[2023-03-16 13:12:43.034 algo-1:47 INFO python_profiler.py:188] Dumping cProfile stats to /opt/ml/output/profiler/framework/pytorch/cprofile/47-algo-1/train-8-forwardpassend-1678972358613189.5_train-9-stepstart-1678972363033600.2/python_stats.\u001b[0m\n",
      "\u001b[34m[2023-03-16 13:12:45.824 algo-1:47 INFO python_profiler.py:188] Dumping cProfile stats to /opt/ml/output/profiler/framework/pytorch/cprofile/47-algo-1/train-9-stepstart-1678972363036854.8_train-9-forwardpassend-1678972365824066.5/python_stats.\u001b[0m\n",
      "\u001b[34m[2023-03-16 13:12:50.349 algo-1:47 INFO python_profiler.py:188] Dumping cProfile stats to /opt/ml/output/profiler/framework/pytorch/cprofile/47-algo-1/train-9-forwardpassend-1678972365825656.8_train-10-stepstart-1678972370348843.5/python_stats.\u001b[0m\n",
      "\u001b[34mtrain loss: 4.922150949375358    train accuracy: 0.005089820359281437\u001b[0m\n",
      "\u001b[34mvalid loss: 4.901296647009022    valid accuracy: 0.004790419161676647\u001b[0m\n",
      "\n",
      "2023-03-16 13:24:14 Uploading - Uploading generated training model\u001b[34mtest loss: 4.898295607863431    test accuracy: 0.0\u001b[0m\n",
      "\u001b[34m2023-03-16 13:24:03,104 sagemaker-training-toolkit INFO     Waiting for the process to finish and give a return code.\u001b[0m\n",
      "\u001b[34m2023-03-16 13:24:03,104 sagemaker-training-toolkit INFO     Done waiting for a return code. Received 0 from exiting process.\u001b[0m\n",
      "\u001b[34m2023-03-16 13:24:03,104 sagemaker-training-toolkit INFO     Reporting training SUCCESS\u001b[0m\n",
      "\n",
      "2023-03-16 13:24:40 Completed - Training job completed\n",
      "Overfit: NoIssuesFound\n",
      "LossNotDecreasing: NoIssuesFound\n",
      "VanishingGradient: NoIssuesFound\n",
      "PoorWeightInitialization: NoIssuesFound\n",
      "Overtraining: NoIssuesFound\n",
      "LowGPUUtilization: NoIssuesFound\n",
      "ProfilerReport: NoIssuesFound\n",
      "CPUBottleneck: NoIssuesFound\n",
      "Training seconds: 861\n",
      "Billable seconds: 861\n"
     ]
    }
   ],
   "source": [
    "best_estimator.fit({'training': input_data}, wait=True)"
   ]
  },
  {
   "cell_type": "code",
   "execution_count": 51,
   "metadata": {
    "tags": []
   },
   "outputs": [
    {
     "name": "stdout",
     "output_type": "stream",
     "text": [
      "fetch path to the path to debugger artifact: \n",
      "[2023-03-16 05:55:05.275 pytorch-1-12-cpu-py38-ml-t3-medium-f8be1a063b37f44eb7b009d8cbea:37 INFO s3_trial.py:42] Loading trial debug-output at path s3://sagemaker-us-east-1-624558554882/pytorch-training-2023-03-16-05-55-04-053/debug-output\n",
      "[2023-03-16 05:55:25.785 pytorch-1-12-cpu-py38-ml-t3-medium-f8be1a063b37f44eb7b009d8cbea:37 WARNING trial.py:147] Waiting to read collections files generated by the training job,from s3://sagemaker-us-east-1-624558554882/pytorch-training-2023-03-16-05-55-04-053/debug-output/. If this has been a while, you might want to check that the trial is pointed at the right path.\n",
      "[2023-03-16 05:55:27.821 pytorch-1-12-cpu-py38-ml-t3-medium-f8be1a063b37f44eb7b009d8cbea:37 WARNING trial.py:147] Waiting to read collections files generated by the training job,from s3://sagemaker-us-east-1-624558554882/pytorch-training-2023-03-16-05-55-04-053/debug-output/. If this has been a while, you might want to check that the trial is pointed at the right path.\n",
      "[2023-03-16 05:55:29.869 pytorch-1-12-cpu-py38-ml-t3-medium-f8be1a063b37f44eb7b009d8cbea:37 WARNING trial.py:147] Waiting to read collections files generated by the training job,from s3://sagemaker-us-east-1-624558554882/pytorch-training-2023-03-16-05-55-04-053/debug-output/. If this has been a while, you might want to check that the trial is pointed at the right path.\n"
     ]
    }
   ],
   "source": [
    "# TODO: Plot a debugging output.\n",
    "from smdebug.trials import create_trial\n",
    "from smdebug.core.modes import ModeKeys\n",
    "\n",
    "print('fetch path to the path to debugger artifact: ')\n",
    "trial = create_trial(best_estimator.latest_job_debugger_artifacts_path())\n"
   ]
  },
  {
   "cell_type": "code",
   "execution_count": 34,
   "metadata": {
    "tags": []
   },
   "outputs": [
    {
     "name": "stdout",
     "output_type": "stream",
     "text": [
      "Detecting tensors to plot: List all tensors that were recorded: \n",
      "[2023-03-05 17:25:49.818 pytorch-1-12-cpu-py38-ml-t3-medium-f8be1a063b37f44eb7b009d8cbea:27 INFO trial.py:197] Training has ended, will refresh one final time in 1 sec.\n",
      "[2023-03-05 17:25:50.868 pytorch-1-12-cpu-py38-ml-t3-medium-f8be1a063b37f44eb7b009d8cbea:27 INFO trial.py:210] Loaded all steps\n"
     ]
    },
    {
     "data": {
      "text/plain": [
       "['CrossEntropyLoss_output_0',\n",
       " 'features.transition1.relu_input_0',\n",
       " 'features.transition2.relu_input_0',\n",
       " 'features.transition3.relu_input_0',\n",
       " 'gradient/DenseNet_classifier.0.bias',\n",
       " 'gradient/DenseNet_classifier.0.weight',\n",
       " 'gradient/DenseNet_classifier.3.bias',\n",
       " 'gradient/DenseNet_classifier.3.weight']"
      ]
     },
     "execution_count": 34,
     "metadata": {},
     "output_type": "execute_result"
    }
   ],
   "source": [
    "print('Detecting tensors to plot: List all tensors that were recorded: ')\n",
    "trial.tensor_names()"
   ]
  },
  {
   "cell_type": "code",
   "execution_count": 35,
   "metadata": {
    "tags": []
   },
   "outputs": [
    {
     "name": "stdout",
     "output_type": "stream",
     "text": [
      "Print the numner os steps saved in the dofferent training phase: \n"
     ]
    },
    {
     "data": {
      "text/plain": [
       "3"
      ]
     },
     "execution_count": 35,
     "metadata": {},
     "output_type": "execute_result"
    }
   ],
   "source": [
    "print('Print the numner os steps saved in the dofferent training phase: ')\n",
    "len(trial.tensor('CrossEntropyLoss_output_0').steps(mode=ModeKeys.TRAIN))"
   ]
  },
  {
   "cell_type": "code",
   "execution_count": 36,
   "metadata": {
    "tags": []
   },
   "outputs": [
    {
     "data": {
      "text/plain": [
       "1"
      ]
     },
     "execution_count": 36,
     "metadata": {},
     "output_type": "execute_result"
    }
   ],
   "source": [
    "len(trial.tensor('CrossEntropyLoss_output_0').steps(mode=ModeKeys.EVAL))"
   ]
  },
  {
   "cell_type": "code",
   "execution_count": 37,
   "metadata": {
    "tags": []
   },
   "outputs": [],
   "source": [
    "# functions to log and plot the output tensors\n",
    "def get_data(trial, tname, mode):\n",
    "    tensor = trial.tensor(tname)\n",
    "    steps = tensor.steps(mode=mode)\n",
    "    vals = []\n",
    "    for s in steps:\n",
    "        vals.append(tensor.value(s, mode=mode))\n",
    "    return steps, vals\n",
    "\n",
    "\n",
    "def plot_tensor(trial, tensor_name):\n",
    "\n",
    "    steps_train, vals_train = get_data(trial, tensor_name, mode=ModeKeys.TRAIN)\n",
    "    print(\"loaded TRAIN data\")\n",
    "    steps_eval, vals_eval = get_data(trial, tensor_name, mode=ModeKeys.EVAL)\n",
    "    print(\"loaded EVAL data\")\n",
    "\n",
    "    fig = plt.figure(figsize=(10, 7))\n",
    "    host = host_subplot(111)\n",
    "\n",
    "    par = host.twiny()\n",
    "\n",
    "    host.set_xlabel(\"Steps (TRAIN)\")\n",
    "    par.set_xlabel(\"Steps (EVAL)\")\n",
    "    host.set_ylabel(tensor_name)\n",
    "\n",
    "    (p1,) = host.plot(steps_train, vals_train, label=tensor_name)\n",
    "    print(\"completed TRAIN plot\")\n",
    "    (p2,) = par.plot(steps_eval, vals_eval, label=\"val_\" + tensor_name)\n",
    "    print(\"completed EVAL plot\")\n",
    "    leg = plt.legend()\n",
    "\n",
    "    host.xaxis.get_label().set_color(p1.get_color())\n",
    "    leg.texts[0].set_color(p1.get_color())\n",
    "\n",
    "    par.xaxis.get_label().set_color(p2.get_color())\n",
    "    leg.texts[1].set_color(p2.get_color())\n",
    "\n",
    "    plt.ylabel(tensor_name)\n",
    "\n",
    "    plt.show()"
   ]
  },
  {
   "cell_type": "code",
   "execution_count": 38,
   "metadata": {
    "tags": []
   },
   "outputs": [
    {
     "name": "stdout",
     "output_type": "stream",
     "text": [
      "loaded TRAIN data\n",
      "loaded EVAL data\n",
      "completed TRAIN plot\n",
      "completed EVAL plot\n"
     ]
    },
    {
     "data": {
      "image/png": "[encoded data removed]",
      "text/plain": [
       "<Figure size 720x504 with 1 Axes>"
      ]
     },
     "metadata": {
      "needs_background": "light"
     },
     "output_type": "display_data"
    }
   ],
   "source": [
    "# plotingloss and accuracy curves of training and validation loops.\n",
    "plot_tensor(trial, 'CrossEntropyLoss_output_0')"
   ]
  },
  {
   "cell_type": "markdown",
   "metadata": {},
   "source": [
    "**TODO**: Is there some anomalous behaviour in your debugging output? If so, what is the error and how will you fix it?  \n",
    "**TODO**: If not, suppose there was an error. What would that error look like and how would you have fixed it?"
   ]
  },
  {
   "cell_type": "markdown",
   "metadata": {},
   "source": [
    "```\n",
    "    Overfit: InProgress\n",
    "    LossNotDecreasing: InProgress\n",
    "    VanishingGradient: InProgress\n",
    "    PoorWeightInitialization: IssuesFound\n",
    "    LowGPUUtilization: IssuesFound\n",
    "    ProfilerReport: InProgress\n",
    "```\n",
    "\n",
    "Based on the rule evaluation and the plot above, we candeduce that the trainig job has a poor weight initialization issue.\n"
   ]
  },
  {
   "cell_type": "code",
   "execution_count": 39,
   "metadata": {},
   "outputs": [
    {
     "name": "stdout",
     "output_type": "stream",
     "text": [
      "Profiler report in s3://sagemaker-us-east-1-037495207244/pytorch-training-2023-03-05-17-05-18-992/rule-output\n"
     ]
    }
   ],
   "source": [
    "# Display the profiler output\n",
    "rule_output_path = best_estimator.output_path + best_estimator.latest_training_job.job_name + \"/rule-output\"\n",
    "print(f\"Profiler report in {rule_output_path}\")"
   ]
  },
  {
   "cell_type": "code",
   "execution_count": 40,
   "metadata": {},
   "outputs": [
    {
     "name": "stdout",
     "output_type": "stream",
     "text": [
      "2023-03-05 17:24:33     395552 pytorch-training-2023-03-05-17-05-18-992/rule-output/ProfilerReport/profiler-output/profiler-report.html\n",
      "2023-03-05 17:24:33     247131 pytorch-training-2023-03-05-17-05-18-992/rule-output/ProfilerReport/profiler-output/profiler-report.ipynb\n",
      "2023-03-05 17:24:28        192 pytorch-training-2023-03-05-17-05-18-992/rule-output/ProfilerReport/profiler-output/profiler-reports/BatchSize.json\n",
      "2023-03-05 17:24:28      24310 pytorch-training-2023-03-05-17-05-18-992/rule-output/ProfilerReport/profiler-output/profiler-reports/CPUBottleneck.json\n",
      "2023-03-05 17:24:28       1982 pytorch-training-2023-03-05-17-05-18-992/rule-output/ProfilerReport/profiler-output/profiler-reports/Dataloader.json\n",
      "2023-03-05 17:24:28        331 pytorch-training-2023-03-05-17-05-18-992/rule-output/ProfilerReport/profiler-output/profiler-reports/GPUMemoryIncrease.json\n",
      "2023-03-05 17:24:28        425 pytorch-training-2023-03-05-17-05-18-992/rule-output/ProfilerReport/profiler-output/profiler-reports/IOBottleneck.json\n",
      "2023-03-05 17:24:28        355 pytorch-training-2023-03-05-17-05-18-992/rule-output/ProfilerReport/profiler-output/profiler-reports/LoadBalancing.json\n",
      "2023-03-05 17:24:28        349 pytorch-training-2023-03-05-17-05-18-992/rule-output/ProfilerReport/profiler-output/profiler-reports/LowGPUUtilization.json\n",
      "2023-03-05 17:24:28        233 pytorch-training-2023-03-05-17-05-18-992/rule-output/ProfilerReport/profiler-output/profiler-reports/MaxInitializationTime.json\n",
      "2023-03-05 17:24:28        376 pytorch-training-2023-03-05-17-05-18-992/rule-output/ProfilerReport/profiler-output/profiler-reports/OverallFrameworkMetrics.json\n",
      "2023-03-05 17:24:28        616 pytorch-training-2023-03-05-17-05-18-992/rule-output/ProfilerReport/profiler-output/profiler-reports/OverallSystemUsage.json\n",
      "2023-03-05 17:24:28       2195 pytorch-training-2023-03-05-17-05-18-992/rule-output/ProfilerReport/profiler-output/profiler-reports/StepOutlier.json\n"
     ]
    }
   ],
   "source": [
    "! aws s3 ls {rule_output_path} --recursive"
   ]
  },
  {
   "cell_type": "code",
   "execution_count": 41,
   "metadata": {},
   "outputs": [
    {
     "name": "stdout",
     "output_type": "stream",
     "text": [
      "download: s3://sagemaker-us-east-1-037495207244/pytorch-training-2023-03-05-17-05-18-992/rule-output/ProfilerReport/profiler-output/profiler-reports/MaxInitializationTime.json to ProfilerReport/profiler-output/profiler-reports/MaxInitializationTime.json\n",
      "download: s3://sagemaker-us-east-1-037495207244/pytorch-training-2023-03-05-17-05-18-992/rule-output/ProfilerReport/profiler-output/profiler-reports/CPUBottleneck.json to ProfilerReport/profiler-output/profiler-reports/CPUBottleneck.json\n",
      "download: s3://sagemaker-us-east-1-037495207244/pytorch-training-2023-03-05-17-05-18-992/rule-output/ProfilerReport/profiler-output/profiler-reports/BatchSize.json to ProfilerReport/profiler-output/profiler-reports/BatchSize.json\n",
      "download: s3://sagemaker-us-east-1-037495207244/pytorch-training-2023-03-05-17-05-18-992/rule-output/ProfilerReport/profiler-output/profiler-reports/GPUMemoryIncrease.json to ProfilerReport/profiler-output/profiler-reports/GPUMemoryIncrease.json\n",
      "download: s3://sagemaker-us-east-1-037495207244/pytorch-training-2023-03-05-17-05-18-992/rule-output/ProfilerReport/profiler-output/profiler-reports/OverallFrameworkMetrics.json to ProfilerReport/profiler-output/profiler-reports/OverallFrameworkMetrics.json\n",
      "download: s3://sagemaker-us-east-1-037495207244/pytorch-training-2023-03-05-17-05-18-992/rule-output/ProfilerReport/profiler-output/profiler-report.html to ProfilerReport/profiler-output/profiler-report.html\n",
      "download: s3://sagemaker-us-east-1-037495207244/pytorch-training-2023-03-05-17-05-18-992/rule-output/ProfilerReport/profiler-output/profiler-reports/LoadBalancing.json to ProfilerReport/profiler-output/profiler-reports/LoadBalancing.json\n",
      "download: s3://sagemaker-us-east-1-037495207244/pytorch-training-2023-03-05-17-05-18-992/rule-output/ProfilerReport/profiler-output/profiler-reports/OverallSystemUsage.json to ProfilerReport/profiler-output/profiler-reports/OverallSystemUsage.json\n",
      "download: s3://sagemaker-us-east-1-037495207244/pytorch-training-2023-03-05-17-05-18-992/rule-output/ProfilerReport/profiler-output/profiler-reports/IOBottleneck.json to ProfilerReport/profiler-output/profiler-reports/IOBottleneck.json\n",
      "download: s3://sagemaker-us-east-1-037495207244/pytorch-training-2023-03-05-17-05-18-992/rule-output/ProfilerReport/profiler-output/profiler-reports/Dataloader.json to ProfilerReport/profiler-output/profiler-reports/Dataloader.json\n",
      "download: s3://sagemaker-us-east-1-037495207244/pytorch-training-2023-03-05-17-05-18-992/rule-output/ProfilerReport/profiler-output/profiler-reports/LowGPUUtilization.json to ProfilerReport/profiler-output/profiler-reports/LowGPUUtilization.json\n",
      "download: s3://sagemaker-us-east-1-037495207244/pytorch-training-2023-03-05-17-05-18-992/rule-output/ProfilerReport/profiler-output/profiler-report.ipynb to ProfilerReport/profiler-output/profiler-report.ipynb\n",
      "download: s3://sagemaker-us-east-1-037495207244/pytorch-training-2023-03-05-17-05-18-992/rule-output/ProfilerReport/profiler-output/profiler-reports/StepOutlier.json to ProfilerReport/profiler-output/profiler-reports/StepOutlier.json\n"
     ]
    }
   ],
   "source": [
    "! aws s3 cp {rule_output_path} ./ --recursive"
   ]
  },
  {
   "cell_type": "code",
   "execution_count": 42,
   "metadata": {},
   "outputs": [],
   "source": [
    "# Get the autogenerated folder name of profiler report\n",
    "profiler_report_name = [\n",
    "    rule[\"RuleConfigurationName\"]\n",
    "    for rule in best_estimator.latest_training_job.rule_job_summary()\n",
    "    if \"Profiler\" in rule[\"RuleConfigurationName\"]\n",
    "][0]"
   ]
  },
  {
   "cell_type": "code",
   "execution_count": null,
   "metadata": {},
   "outputs": [],
   "source": [
    "# Diplay profiler report\n",
    "# IPython.display.HTML(filename=profiler_report_name + \"/profiler-output/profiler-report.html\")"
   ]
  },
  {
   "cell_type": "markdown",
   "metadata": {},
   "source": [
    "## Model Deploying"
   ]
  },
  {
   "cell_type": "code",
   "execution_count": 62,
   "metadata": {
    "tags": []
   },
   "outputs": [],
   "source": [
    "from sagemaker.pytorch import PyTorchModel\n",
    "from sagemaker.serializers import JSONSerializer, IdentitySerializer\n",
    "from sagemaker.deserializers import JSONDeserializer\n",
    "\n",
    "\n",
    "model_deploy = PyTorchModel(\n",
    "    entry_point = 'inference.py',\n",
    "    role = role,\n",
    "    model_data = best_estimator.model_data,\n",
    "    # model_data = ' ',\n",
    "    framework_version = '1.12',\n",
    "    py_version = 'py38',\n",
    ")"
   ]
  },
  {
   "cell_type": "code",
   "execution_count": 63,
   "metadata": {
    "tags": []
   },
   "outputs": [
    {
     "name": "stderr",
     "output_type": "stream",
     "text": [
      "INFO:sagemaker:Creating model with name: pytorch-inference-2023-03-16-14-16-02-305\n",
      "INFO:sagemaker:Creating endpoint-config with name pytorch-inference-2023-03-16-14-16-03-256\n",
      "INFO:sagemaker:Creating endpoint with name pytorch-inference-2023-03-16-14-16-03-256\n"
     ]
    },
    {
     "name": "stdout",
     "output_type": "stream",
     "text": [
      "------!"
     ]
    }
   ],
   "source": [
    "# Deploy your model to an endpoint\n",
    "predictor = model_deploy.deploy(\n",
    "    instance_type='ml.m5.xlarge', # ml.m5.large\n",
    "    initial_instance_count=1,\n",
    "    serializer = IdentitySerializer(\"image/jpg\"),\n",
    "    deserializer = JSONDeserializer(),\n",
    ")"
   ]
  },
  {
   "cell_type": "code",
   "execution_count": null,
   "metadata": {
    "tags": []
   },
   "outputs": [
    {
     "name": "stdout",
     "output_type": "stream",
     "text": [
      "prediction: 021.Belgian_sheepdog, probability:  0.0128\n"
     ]
    },
    {
     "data": {
      "image/png": "[encoded data removed]",
      "text/plain": [
       "<Figure size 432x288 with 1 Axes>"
      ]
     },
     "metadata": {
      "needs_background": "light"
     },
     "output_type": "display_data"
    }
   ],
   "source": [
    "from train_model import create_data_loaders\n",
    "\n",
    "# fetch test set batch\n",
    "data, _ = create_data_loaders('dogImages', 8)\n",
    "\n",
    "# get cglasses\n",
    "test_classes = {v: k for k, v in data['test'].dataset.class_to_idx.items()}\n",
    "# print(test_classes)\n",
    "\n",
    "image_path = 'dogImages/test/020.Belgian_malinois/Belgian_malinois_01472.jpg'\n",
    "\n",
    "with open(image_path, 'rb') as img:\n",
    "    payload = img.read()\n",
    "\n",
    "response = predictor.predict(payload)\n",
    "idx = torch.argmax(torch.tensor(response), 1)\n",
    "predict_class = test_classes.get(idx.item())\n",
    "\n",
    "probs = torch.nn.functional.softmax(torch.tensor(response), 1).squeeze()\n",
    "pred_prob = probs[idx.item()]\n",
    "\n",
    "preview = Image.open(image_path)\n",
    "plt.imshow(preview)\n",
    "\n",
    "\n",
    "print(f\"prediction: {predict_class}, probability: {pred_prob: .4f}\")"
   ]
  },
  {
   "cell_type": "code",
   "execution_count": 68,
   "metadata": {
    "tags": []
   },
   "outputs": [
    {
     "name": "stderr",
     "output_type": "stream",
     "text": [
      "INFO:sagemaker:Deleting endpoint configuration with name: pytorch-inference-2023-03-16-14-16-03-256\n",
      "INFO:sagemaker:Deleting endpoint with name: pytorch-inference-2023-03-16-14-16-03-256\n"
     ]
    }
   ],
   "source": [
    "# # Remember to shutdown/delete your endpoint once your work is done\n",
    "predictor.delete_endpoint()"
   ]
  },
  {
   "cell_type": "code",
   "execution_count": 69,
   "metadata": {
    "tags": []
   },
   "outputs": [
    {
     "name": "stderr",
     "output_type": "stream",
     "text": [
      "INFO:sagemaker:Creating model with name: pytorch-training-2023-03-16-14-52-12-479\n",
      "INFO:sagemaker:Creating endpoint-config with name pytorch-training-2023-03-16-14-52-12-479\n",
      "INFO:sagemaker:Creating endpoint with name pytorch-training-2023-03-16-14-52-12-479\n"
     ]
    },
    {
     "name": "stdout",
     "output_type": "stream",
     "text": [
      "-----!"
     ]
    }
   ],
   "source": [
    "# deploy method 2\n",
    "predictor = best_estimator.deploy(instance_type='ml.m5.large', initial_instance_count=1)"
   ]
  },
  {
   "cell_type": "code",
   "execution_count": null,
   "metadata": {
    "tags": []
   },
   "outputs": [],
   "source": [
    "from train_model import create_data_loaders\n",
    "\n",
    "def imshow(img):\n",
    "    img = img / 2 + 0.5  # unnormalize\n",
    "    npimg = img.numpy()\n",
    "    plt.imshow(np.transpose(npimg, (1, 2, 0)))\n",
    "    \n",
    "\n",
    "data, num_cls = create_data_loaders('dogImages', 8)\n",
    "classes = data['test'].dataset.classes\n",
    "# print(classes, end='\\n\\n\\n')\n",
    "\n",
    "test_classes = {v: k for k, v in data['test'].dataset.class_to_idx.items()}\n",
    "# print(test_classes)\n",
    "\n",
    "# get some test images\n",
    "dataiter = iter(data['test'])\n",
    "images, labels = dataiter.next()\n",
    "\n",
    "# print(images)\n",
    "# print(labels)\n",
    "\n",
    "# img = np.array(images)\n",
    "# img = np.transpose(img, (1, 2, 0))\n",
    "# img_tensor = torch.tensor(img).float()\n",
    "\n",
    "\n",
    "imshow(torchvision.utils.make_grid(images))\n",
    "# imshow(torchvision.utils.make_grid(img_tensor))\n",
    "print(\"GroundTruth: \", \" \".join(\"%4s\" % classes[labels[j]] for j in range(4)))\n",
    "\n",
    "outputs = predictor.predict(images.numpy())\n",
    "# outputs = predictor.predict(img_tensor)\n",
    "\n",
    "\n",
    "_, predicted = torch.max(torch.from_numpy(np.array(outputs)), 1)\n",
    "print(\"Predicted: \", \" \".join(\"%4s\" % classes[predicted[j]] for j in range(4)))"
   ]
  },
  {
   "cell_type": "code",
   "execution_count": null,
   "metadata": {},
   "outputs": [],
   "source": []
  }
 ],
 "metadata": {
  "availableInstances": [
   {
    "_defaultOrder": 0,
    "_isFastLaunch": true,
    "category": "General purpose",
    "gpuNum": 0,
    "memoryGiB": 4,
    "name": "ml.t3.medium",
    "vcpuNum": 2
   },
   {
    "_defaultOrder": 1,
    "_isFastLaunch": false,
    "category": "General purpose",
    "gpuNum": 0,
    "memoryGiB": 8,
    "name": "ml.t3.large",
    "vcpuNum": 2
   },
   {
    "_defaultOrder": 2,
    "_isFastLaunch": false,
    "category": "General purpose",
    "gpuNum": 0,
    "memoryGiB": 16,
    "name": "ml.t3.xlarge",
    "vcpuNum": 4
   },
   {
    "_defaultOrder": 3,
    "_isFastLaunch": false,
    "category": "General purpose",
    "gpuNum": 0,
    "memoryGiB": 32,
    "name": "ml.t3.2xlarge",
    "vcpuNum": 8
   },
   {
    "_defaultOrder": 4,
    "_isFastLaunch": true,
    "category": "General purpose",
    "gpuNum": 0,
    "memoryGiB": 8,
    "name": "ml.m5.large",
    "vcpuNum": 2
   },
   {
    "_defaultOrder": 5,
    "_isFastLaunch": false,
    "category": "General purpose",
    "gpuNum": 0,
    "memoryGiB": 16,
    "name": "ml.m5.xlarge",
    "vcpuNum": 4
   },
   {
    "_defaultOrder": 6,
    "_isFastLaunch": false,
    "category": "General purpose",
    "gpuNum": 0,
    "memoryGiB": 32,
    "name": "ml.m5.2xlarge",
    "vcpuNum": 8
   },
   {
    "_defaultOrder": 7,
    "_isFastLaunch": false,
    "category": "General purpose",
    "gpuNum": 0,
    "memoryGiB": 64,
    "name": "ml.m5.4xlarge",
    "vcpuNum": 16
   },
   {
    "_defaultOrder": 8,
    "_isFastLaunch": false,
    "category": "General purpose",
    "gpuNum": 0,
    "memoryGiB": 128,
    "name": "ml.m5.8xlarge",
    "vcpuNum": 32
   },
   {
    "_defaultOrder": 9,
    "_isFastLaunch": false,
    "category": "General purpose",
    "gpuNum": 0,
    "memoryGiB": 192,
    "name": "ml.m5.12xlarge",
    "vcpuNum": 48
   },
   {
    "_defaultOrder": 10,
    "_isFastLaunch": false,
    "category": "General purpose",
    "gpuNum": 0,
    "memoryGiB": 256,
    "name": "ml.m5.16xlarge",
    "vcpuNum": 64
   },
   {
    "_defaultOrder": 11,
    "_isFastLaunch": false,
    "category": "General purpose",
    "gpuNum": 0,
    "memoryGiB": 384,
    "name": "ml.m5.24xlarge",
    "vcpuNum": 96
   },
   {
    "_defaultOrder": 12,
    "_isFastLaunch": false,
    "category": "General purpose",
    "gpuNum": 0,
    "memoryGiB": 8,
    "name": "ml.m5d.large",
    "vcpuNum": 2
   },
   {
    "_defaultOrder": 13,
    "_isFastLaunch": false,
    "category": "General purpose",
    "gpuNum": 0,
    "memoryGiB": 16,
    "name": "ml.m5d.xlarge",
    "vcpuNum": 4
   },
   {
    "_defaultOrder": 14,
    "_isFastLaunch": false,
    "category": "General purpose",
    "gpuNum": 0,
    "memoryGiB": 32,
    "name": "ml.m5d.2xlarge",
    "vcpuNum": 8
   },
   {
    "_defaultOrder": 15,
    "_isFastLaunch": false,
    "category": "General purpose",
    "gpuNum": 0,
    "memoryGiB": 64,
    "name": "ml.m5d.4xlarge",
    "vcpuNum": 16
   },
   {
    "_defaultOrder": 16,
    "_isFastLaunch": false,
    "category": "General purpose",
    "gpuNum": 0,
    "memoryGiB": 128,
    "name": "ml.m5d.8xlarge",
    "vcpuNum": 32
   },
   {
    "_defaultOrder": 17,
    "_isFastLaunch": false,
    "category": "General purpose",
    "gpuNum": 0,
    "memoryGiB": 192,
    "name": "ml.m5d.12xlarge",
    "vcpuNum": 48
   },
   {
    "_defaultOrder": 18,
    "_isFastLaunch": false,
    "category": "General purpose",
    "gpuNum": 0,
    "memoryGiB": 256,
    "name": "ml.m5d.16xlarge",
    "vcpuNum": 64
   },
   {
    "_defaultOrder": 19,
    "_isFastLaunch": false,
    "category": "General purpose",
    "gpuNum": 0,
    "memoryGiB": 384,
    "name": "ml.m5d.24xlarge",
    "vcpuNum": 96
   },
   {
    "_defaultOrder": 20,
    "_isFastLaunch": true,
    "category": "Compute optimized",
    "gpuNum": 0,
    "memoryGiB": 4,
    "name": "ml.c5.large",
    "vcpuNum": 2
   },
   {
    "_defaultOrder": 21,
    "_isFastLaunch": false,
    "category": "Compute optimized",
    "gpuNum": 0,
    "memoryGiB": 8,
    "name": "ml.c5.xlarge",
    "vcpuNum": 4
   },
   {
    "_defaultOrder": 22,
    "_isFastLaunch": false,
    "category": "Compute optimized",
    "gpuNum": 0,
    "memoryGiB": 16,
    "name": "ml.c5.2xlarge",
    "vcpuNum": 8
   },
   {
    "_defaultOrder": 23,
    "_isFastLaunch": false,
    "category": "Compute optimized",
    "gpuNum": 0,
    "memoryGiB": 32,
    "name": "ml.c5.4xlarge",
    "vcpuNum": 16
   },
   {
    "_defaultOrder": 24,
    "_isFastLaunch": false,
    "category": "Compute optimized",
    "gpuNum": 0,
    "memoryGiB": 72,
    "name": "ml.c5.9xlarge",
    "vcpuNum": 36
   },
   {
    "_defaultOrder": 25,
    "_isFastLaunch": false,
    "category": "Compute optimized",
    "gpuNum": 0,
    "memoryGiB": 96,
    "name": "ml.c5.12xlarge",
    "vcpuNum": 48
   },
   {
    "_defaultOrder": 26,
    "_isFastLaunch": false,
    "category": "Compute optimized",
    "gpuNum": 0,
    "memoryGiB": 144,
    "name": "ml.c5.18xlarge",
    "vcpuNum": 72
   },
   {
    "_defaultOrder": 27,
    "_isFastLaunch": false,
    "category": "Compute optimized",
    "gpuNum": 0,
    "memoryGiB": 192,
    "name": "ml.c5.24xlarge",
    "vcpuNum": 96
   },
   {
    "_defaultOrder": 28,
    "_isFastLaunch": true,
    "category": "Accelerated computing",
    "gpuNum": 1,
    "memoryGiB": 16,
    "name": "ml.g4dn.xlarge",
    "vcpuNum": 4
   },
   {
    "_defaultOrder": 29,
    "_isFastLaunch": false,
    "category": "Accelerated computing",
    "gpuNum": 1,
    "memoryGiB": 32,
    "name": "ml.g4dn.2xlarge",
    "vcpuNum": 8
   },
   {
    "_defaultOrder": 30,
    "_isFastLaunch": false,
    "category": "Accelerated computing",
    "gpuNum": 1,
    "memoryGiB": 64,
    "name": "ml.g4dn.4xlarge",
    "vcpuNum": 16
   },
   {
    "_defaultOrder": 31,
    "_isFastLaunch": false,
    "category": "Accelerated computing",
    "gpuNum": 1,
    "memoryGiB": 128,
    "name": "ml.g4dn.8xlarge",
    "vcpuNum": 32
   },
   {
    "_defaultOrder": 32,
    "_isFastLaunch": false,
    "category": "Accelerated computing",
    "gpuNum": 4,
    "memoryGiB": 192,
    "name": "ml.g4dn.12xlarge",
    "vcpuNum": 48
   },
   {
    "_defaultOrder": 33,
    "_isFastLaunch": false,
    "category": "Accelerated computing",
    "gpuNum": 1,
    "memoryGiB": 256,
    "name": "ml.g4dn.16xlarge",
    "vcpuNum": 64
   },
   {
    "_defaultOrder": 34,
    "_isFastLaunch": false,
    "category": "Accelerated computing",
    "gpuNum": 1,
    "memoryGiB": 61,
    "name": "ml.p3.2xlarge",
    "vcpuNum": 8
   },
   {
    "_defaultOrder": 35,
    "_isFastLaunch": false,
    "category": "Accelerated computing",
    "gpuNum": 4,
    "memoryGiB": 244,
    "name": "ml.p3.8xlarge",
    "vcpuNum": 32
   },
   {
    "_defaultOrder": 36,
    "_isFastLaunch": false,
    "category": "Accelerated computing",
    "gpuNum": 8,
    "memoryGiB": 488,
    "name": "ml.p3.16xlarge",
    "vcpuNum": 64
   },
   {
    "_defaultOrder": 37,
    "_isFastLaunch": false,
    "category": "Accelerated computing",
    "gpuNum": 8,
    "memoryGiB": 768,
    "name": "ml.p3dn.24xlarge",
    "vcpuNum": 96
   },
   {
    "_defaultOrder": 38,
    "_isFastLaunch": false,
    "category": "Memory Optimized",
    "gpuNum": 0,
    "memoryGiB": 16,
    "name": "ml.r5.large",
    "vcpuNum": 2
   },
   {
    "_defaultOrder": 39,
    "_isFastLaunch": false,
    "category": "Memory Optimized",
    "gpuNum": 0,
    "memoryGiB": 32,
    "name": "ml.r5.xlarge",
    "vcpuNum": 4
   },
   {
    "_defaultOrder": 40,
    "_isFastLaunch": false,
    "category": "Memory Optimized",
    "gpuNum": 0,
    "memoryGiB": 64,
    "name": "ml.r5.2xlarge",
    "vcpuNum": 8
   },
   {
    "_defaultOrder": 41,
    "_isFastLaunch": false,
    "category": "Memory Optimized",
    "gpuNum": 0,
    "memoryGiB": 128,
    "name": "ml.r5.4xlarge",
    "vcpuNum": 16
   },
   {
    "_defaultOrder": 42,
    "_isFastLaunch": false,
    "category": "Memory Optimized",
    "gpuNum": 0,
    "memoryGiB": 256,
    "name": "ml.r5.8xlarge",
    "vcpuNum": 32
   },
   {
    "_defaultOrder": 43,
    "_isFastLaunch": false,
    "category": "Memory Optimized",
    "gpuNum": 0,
    "memoryGiB": 384,
    "name": "ml.r5.12xlarge",
    "vcpuNum": 48
   },
   {
    "_defaultOrder": 44,
    "_isFastLaunch": false,
    "category": "Memory Optimized",
    "gpuNum": 0,
    "memoryGiB": 512,
    "name": "ml.r5.16xlarge",
    "vcpuNum": 64
   },
   {
    "_defaultOrder": 45,
    "_isFastLaunch": false,
    "category": "Memory Optimized",
    "gpuNum": 0,
    "memoryGiB": 768,
    "name": "ml.r5.24xlarge",
    "vcpuNum": 96
   },
   {
    "_defaultOrder": 46,
    "_isFastLaunch": false,
    "category": "Accelerated computing",
    "gpuNum": 1,
    "memoryGiB": 16,
    "name": "ml.g5.xlarge",
    "vcpuNum": 4
   },
   {
    "_defaultOrder": 47,
    "_isFastLaunch": false,
    "category": "Accelerated computing",
    "gpuNum": 1,
    "memoryGiB": 32,
    "name": "ml.g5.2xlarge",
    "vcpuNum": 8
   },
   {
    "_defaultOrder": 48,
    "_isFastLaunch": false,
    "category": "Accelerated computing",
    "gpuNum": 1,
    "memoryGiB": 64,
    "name": "ml.g5.4xlarge",
    "vcpuNum": 16
   },
   {
    "_defaultOrder": 49,
    "_isFastLaunch": false,
    "category": "Accelerated computing",
    "gpuNum": 1,
    "memoryGiB": 128,
    "name": "ml.g5.8xlarge",
    "vcpuNum": 32
   },
   {
    "_defaultOrder": 50,
    "_isFastLaunch": false,
    "category": "Accelerated computing",
    "gpuNum": 1,
    "memoryGiB": 256,
    "name": "ml.g5.16xlarge",
    "vcpuNum": 64
   },
   {
    "_defaultOrder": 51,
    "_isFastLaunch": false,
    "category": "Accelerated computing",
    "gpuNum": 4,
    "memoryGiB": 192,
    "name": "ml.g5.12xlarge",
    "vcpuNum": 48
   },
   {
    "_defaultOrder": 52,
    "_isFastLaunch": false,
    "category": "Accelerated computing",
    "gpuNum": 4,
    "memoryGiB": 384,
    "name": "ml.g5.24xlarge",
    "vcpuNum": 96
   },
   {
    "_defaultOrder": 53,
    "_isFastLaunch": false,
    "category": "Accelerated computing",
    "gpuNum": 8,
    "memoryGiB": 768,
    "name": "ml.g5.48xlarge",
    "vcpuNum": 192
   }
  ],
  "instance_type": "ml.t3.medium",
  "kernelspec": {
   "display_name": "Python 3 (Data Science)",
   "language": "python",
   "name": "python3__SAGEMAKER_INTERNAL__arn:aws:sagemaker:us-east-1:081325390199:image/datascience-1.0"
  },
  "language_info": {
   "codemirror_mode": {
    "name": "ipython",
    "version": 3
   },
   "file_extension": ".py",
   "mimetype": "text/x-python",
   "name": "python",
   "nbconvert_exporter": "python",
   "pygments_lexer": "ipython3",
   "version": "3.7.10"
  },
  "vscode": {
   "interpreter": {
    "hash": "31f2aee4e71d21fbe5cf8b01ff0e069b9275f58929596ceb00d14d90e3e16cd6"
   }
  }
 },
 "nbformat": 4,
 "nbformat_minor": 4
}
